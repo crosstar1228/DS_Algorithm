{
  "nbformat": 4,
  "nbformat_minor": 0,
  "metadata": {
    "colab": {
      "name": "[백준#10282]해킹(graph, bfs, heap).ipynb",
      "provenance": [],
      "collapsed_sections": []
    },
    "kernelspec": {
      "name": "python3",
      "display_name": "Python 3"
    },
    "language_info": {
      "name": "python"
    }
  },
  "cells": [
    {
      "cell_type": "markdown",
      "source": [
        "1차시도 : dfs 및 재귀로 플어보려다 실패\n",
        "\n",
        "- timepoint를 비교하는 저장소를 만들어놓아야 하는데, 그생각을 못함"
      ],
      "metadata": {
        "id": "rTCzQIQrC4GQ"
      }
    },
    {
      "cell_type": "code",
      "execution_count": null,
      "metadata": {
        "id": "EDmp8azSCujk"
      },
      "outputs": [],
      "source": [
        "import sys\n",
        "from collections import defaultdict\n",
        "INPUT=sys.stdin.readline\n",
        "\n",
        "\n",
        "def dfs(dic, startkey,timepoint):\n",
        "    for depend_set in dic[startkey]:\n",
        "        for depend n depend_set:\n",
        "            if depend[1] == timepoint:\n",
        "                timeset[depend[0]](depend[0])\n",
        "                dfs(dic, depend[0])\n",
        "num_testcase=int(INPUT())\n",
        "for i in range(num_testcase):\n",
        "    n, d, c = map(int,INPUT().split())\n",
        "    lis = [map(int,INPUT().split()) for _ in range(d)]\n",
        "    dic=defaultdict(set)\n",
        "    for a, b, s in lis:\n",
        "        dic[b].add((a,s))\n",
        "    print(dic)\n",
        "    timepoint=0\n",
        "    timeset = defaultdict(list)\n",
        "    dfs(dic,c)\n",
        "    print(len(visited),timepoint)\n",
        "        # for key in dic:\n",
        "        #     depend_list=dic[key]\n",
        "i"
      ]
    },
    {
      "cell_type": "markdown",
      "source": [
        "## 고려 point 😎\n",
        "- queue 만들고, time point별로 비교하면서 어느 것이 더 빨리 감염되는지 비교를 해야 함\n",
        "- 감염된 node및 감염되기까지 걸린 시간에 대한 dictionary 자료구조를 만들어놓고 걸린 시간이 제일 덜걸린것만 골라내면 됨\n",
        "\n",
        "- bfs로 탐색하고, heap 자료구조로 최소시간에 대한 자동 정렬이 일어나게끔 함\n",
        "  - 탐색 시 자동으로 그 다음으로 짧게 걸리는 것들에 대해 알수 있음\n",
        "\n",
        "> timepoint를 iterating하는 것이 아니라,\n",
        "- 시간이 덜걸리는 것들을 탐색하고\n",
        "- heappop 및 heappush 활용하는 것이 핵심\n"
      ],
      "metadata": {
        "id": "VMHKRhMoDEg-"
      }
    },
    {
      "cell_type": "markdown",
      "source": [
        "1. defaultdict 활용안하고 list indexing으로 한 코드"
      ],
      "metadata": {
        "id": "2FUEWkOgD2XJ"
      }
    },
    {
      "cell_type": "code",
      "source": [
        "import sys\n",
        "import heapq\n",
        "input = sys.stdin.readline\n",
        " \n",
        "T = int(input())\n",
        " \n",
        "for _ in range(T):\n",
        "    n, d, start = map(int, input().split())\n",
        "    arr = [[] for _ in range(n+1)]\n",
        "    time = [sys.maxsize]*(n+1)\n",
        "    time[start] = 0\n",
        "    queue = [[0, start]]\n",
        "    for _ in range(d):\n",
        "        a, b, s = map(int, input().split())\n",
        "        arr[b].append([a, s])\n",
        " \n",
        "    while queue:\n",
        "        w, s = heapq.heappop(queue)\n",
        "        for e, v in arr[s]:\n",
        "            if time[e] > w+v:\n",
        "                time[e] = w+v\n",
        "                heapq.heappush(queue, [w+v, e])\n",
        " \n",
        "    _max = 0\n",
        "    cnt = 0\n",
        "    for i in time:\n",
        "        if i != sys.maxsize:\n",
        "            _max = max(i, _max)\n",
        "            cnt += 1\n",
        " \n",
        "    print(cnt, _max)\n"
      ],
      "metadata": {
        "id": "pnDkPsSbD0P-"
      },
      "execution_count": null,
      "outputs": []
    },
    {
      "cell_type": "markdown",
      "source": [
        "defaultdict 활용한 코드"
      ],
      "metadata": {
        "id": "FeMO8vwxEEVe"
      }
    },
    {
      "cell_type": "code",
      "source": [
        "import sys\n",
        "import collections\n",
        "import heapq\n",
        "\n",
        "t=int(sys.stdin.readline())\n",
        "\n",
        "\n",
        "for kk in range(t):\n",
        "    n,d,c=map(int,sys.stdin.readline().split())\n",
        "    graph=collections.defaultdict(list)\n",
        "    for i in range(d):\n",
        "        a,b,s=map(int,sys.stdin.readline().split())\n",
        "        graph[b].append((a,s))\n",
        "\n",
        "    dist=collections.defaultdict(int)\n",
        "    q=[(0,c)]\n",
        "    while q:\n",
        "        time,node=heapq.heappop(q)\n",
        "        if node not in dist:\n",
        "            dist[node]=time\n",
        "            for v,w in graph[node]:\n",
        "                alt=time+w\n",
        "                heapq.heappush(q,(alt,v))\n",
        "    print(len(dist),max(dist.values()),end=' ')\n",
        "    print()"
      ],
      "metadata": {
        "id": "2kAvOZ1MEEDJ"
      },
      "execution_count": null,
      "outputs": []
    }
  ]
}