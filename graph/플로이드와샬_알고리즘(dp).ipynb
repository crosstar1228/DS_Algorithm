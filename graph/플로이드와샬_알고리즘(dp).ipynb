{
  "nbformat": 4,
  "nbformat_minor": 0,
  "metadata": {
    "colab": {
      "name": "플로이드와샬_알고리즘(dp).ipynb",
      "provenance": [],
      "collapsed_sections": []
    },
    "kernelspec": {
      "name": "python3",
      "display_name": "Python 3"
    },
    "language_info": {
      "name": "python"
    }
  },
  "cells": [
    {
      "cell_type": "markdown",
      "source": [
        "## 플로이드-워셜 알고리즘\n",
        "\n",
        "- 모든 정점 사이의 최단경로를 찾는 탐색 알고리즘\n",
        "- 시간복잡도 O(n^3)\n",
        "\n",
        "- 핵심은 해당 직접 방문하는 경로의 cost와, 다른 곳을 들렀다가 방문하는 cost 를 비교하여 더 작은 값을 선택해 나가는 것 \n",
        "\n",
        "\n",
        "### 예시 그래프\n",
        "![](https://velog.velcdn.com/images/crosstar1228/post/03b25b83-25ce-4a0e-ae62-41d51877541e/image.png)\n",
        "\n",
        "### Reference\n",
        "- https://it-garden.tistory.com/247\n"
      ],
      "metadata": {
        "id": "cNI-jEhXG4b-"
      }
    },
    {
      "cell_type": "code",
      "execution_count": 3,
      "metadata": {
        "colab": {
          "base_uri": "https://localhost:8080/"
        },
        "id": "H0pCvSUPCjYq",
        "outputId": "ef441db1-81d1-4c41-c606-19f70268df34"
      },
      "outputs": [
        {
          "output_type": "stream",
          "name": "stdout",
          "text": [
            "[[0, 2, 5, 4], [2, 0, 6, 5], [3, 5, 0, 7], [4, 2, 1, 0]]\n"
          ]
        }
      ],
      "source": [
        "import sys\n",
        "inf = sys.maxsize\n",
        "\n",
        "\n",
        "n = 4 #int(input())\n",
        "a = [[0,2,inf, 4], [2,0,inf, 5],[3,inf,0,inf],[inf,2,1,0]]\n",
        "dist = [[inf]*n for _ in range(n)]\n",
        "\n",
        "for i in range(n):\n",
        "  for j in range(n):\n",
        "    dist[i][j] = a[i][j] # a 를 dist에 할당\n",
        "\n",
        "\n",
        "for k in range(n): # 거치는 점\n",
        "  for i in range(n): # 시작점\n",
        "    for j in range(n): # 끝점\n",
        "      # K를 거쳐을 때의 경로가 더 적은 경로\n",
        "      if dist[i][j] > dist[i][k] + dist[k][j]:\n",
        "        dist[i][j] = dist[i][k] + dist[k][j] # 할당\n",
        "  \n",
        "print(dist)\n",
        "\n",
        "\n",
        "\n"
      ]
    },
    {
      "cell_type": "code",
      "source": [
        ""
      ],
      "metadata": {
        "id": "JD0jUOQlDmsL"
      },
      "execution_count": null,
      "outputs": []
    }
  ]
}