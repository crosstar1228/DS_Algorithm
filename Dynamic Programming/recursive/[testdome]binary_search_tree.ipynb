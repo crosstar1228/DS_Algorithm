{
  "nbformat": 4,
  "nbformat_minor": 0,
  "metadata": {
    "colab": {
      "name": "[testdome]binary_search_tree.ipynb",
      "provenance": []
    },
    "kernelspec": {
      "name": "python3",
      "display_name": "Python 3"
    },
    "language_info": {
      "name": "python"
    }
  },
  "cells": [
    {
      "cell_type": "markdown",
      "source": [
        "[문제 풀기](https://www.testdome.com/questions/python/binary-search-tree/14288)\n",
        "\n",
        "## binary search tree에서 원하는 값이 존재하는지 여부를 찾음.\n",
        "\n",
        "\n",
        "1차 시도 : 끝점과 끝점 사이에 값이 존재하면 바로 return하도록 구상하였으나, 접근 자체가 틀린 접근."
      ],
      "metadata": {
        "id": "jY1NbYzH9Ivd"
      }
    },
    {
      "cell_type": "code",
      "execution_count": null,
      "metadata": {
        "id": "gp7Geku9wQn4"
      },
      "outputs": [],
      "source": [
        "import collections\n",
        "\n",
        "Node = collections.namedtuple('Node', ['left', 'right', 'value'])\n",
        "\n",
        "def contains(root, value):\n",
        "    node = root\n",
        "    while not node.left==None:\n",
        "        node=node.left\n",
        "    minv = node.value\n",
        "    node = root\n",
        "    while not node.right==None:\n",
        "        node=node.right\n",
        "    for i in range(minv,maxv+1):\n",
        "        while True:\n",
        "           \n",
        "            return True\n",
        "    else:\n",
        "        return False\n",
        "        \n",
        "n1 = Node(value=1, left=None, right=None)\n",
        "n3 = Node(value=3, left=None, right=None)\n",
        "n2 = Node(value=2, left=n1, right=n3)\n",
        "        \n",
        "print(contains(n2, 3))\n"
      ]
    },
    {
      "cell_type": "markdown",
      "source": [
        "다른 풀이 : recursive algorithm으로 구현\n",
        "> 1. 첫번째 root에 null값 확인\n",
        "2. 값이 작으면 왼쪽, 값이 크면 오른쪽으로 가기"
      ],
      "metadata": {
        "id": "0qvATriZ9mKz"
      }
    },
    {
      "cell_type": "code",
      "source": [
        "import collections\n",
        "\n",
        "class BinarySearchTree:\n",
        "\n",
        "    Node = collections.namedtuple('Node', ['left', 'right', 'value'])\n",
        "    \n",
        "    @staticmethod\n",
        "    def contains(root, value):\n",
        "        if root.value==None: #null 확인\n",
        "            return False\n",
        "        elif root.value==value:\n",
        "            return True\n",
        "        elif value<root.value:\n",
        "            return BinarySearchTree.contains(root.left,value) # 재귀 호출\n",
        "        elif value>root.value:\n",
        "            return BinarySearchTree.contains(root.right,value) # 재귀 호출\n",
        "\n",
        "n1 = BinarySearchTree.Node(value=1, left=None, right=None)\n",
        "n3 = BinarySearchTree.Node(value=3, left=None, right=None)\n",
        "n2 = BinarySearchTree.Node(value=2, left=n1, right=n3)\n",
        "\n",
        "print(BinarySearchTree.contains(n2, 3))"
      ],
      "metadata": {
        "id": "2ndrYcSO9rfC"
      },
      "execution_count": null,
      "outputs": []
    }
  ]
}