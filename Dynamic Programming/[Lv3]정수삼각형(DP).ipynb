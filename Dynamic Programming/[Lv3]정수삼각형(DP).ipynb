{
  "nbformat": 4,
  "nbformat_minor": 0,
  "metadata": {
    "colab": {
      "name": "[Lv3]정수삼각형(DP).ipynb",
      "provenance": []
    },
    "kernelspec": {
      "name": "python3",
      "display_name": "Python 3"
    },
    "language_info": {
      "name": "python"
    }
  },
  "cells": [
    {
      "cell_type": "markdown",
      "source": [
        "[문제 풀기](https://programmers.co.kr/learn/courses/30/lessons/43105)\n",
        "\n",
        "## DP table을 만들어 쉽게 풀 수 있는 문제.\n",
        "- 계산 방법의 경로를 역추적하면 바로 위에서 오거나, 그 옆에서 오거나 두가지 경우임. \n",
        "- 양 끝에 있는 건 예외처리 고고.\n",
        "\n"
      ],
      "metadata": {
        "id": "jtziXXrRjZGV"
      }
    },
    {
      "cell_type": "code",
      "execution_count": null,
      "metadata": {
        "id": "KG-QPVn5jVrL"
      },
      "outputs": [],
      "source": [
        "def solution(triangle):\n",
        "\n",
        "    n = len(triangle[-1])\n",
        "    dp = [[-1]*j for j in range(1,n+1)]\n",
        "    dp[0]=triangle[0]\n",
        "    # print(dp)\n",
        "    \n",
        "    for i in range(n):\n",
        "        if i==0:\n",
        "            continue;\n",
        "        for j in range(i+1):\n",
        "            if j==0:\n",
        "                \n",
        "                dp[i][j] = dp[i-1][j] + triangle[i][j]\n",
        "            elif j==i:\n",
        "                dp[i][j] = dp[i-1][j-1] + triangle[i][j]\n",
        "            else:\n",
        "                dp[i][j] = max(dp[i-1][j-1], dp[i-1][j]) +  triangle[i][j]    \n",
        "    return max(dp[-1])"
      ]
    }
  ]
}