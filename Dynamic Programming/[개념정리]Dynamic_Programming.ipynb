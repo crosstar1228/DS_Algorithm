{
  "nbformat": 4,
  "nbformat_minor": 0,
  "metadata": {
    "colab": {
      "name": "[알고리즘]Dynamic_Programming.ipynb",
      "provenance": []
    },
    "kernelspec": {
      "name": "python3",
      "display_name": "Python 3"
    },
    "language_info": {
      "name": "python"
    }
  },
  "cells": [
    {
      "cell_type": "markdown",
      "metadata": {
        "id": "Zk-_NsZdkny4"
      },
      "source": [
        "## Recursive Algorithm의 문제점👅\n",
        "- 함수 호출이 너무 많다\n",
        "- 동일한 parameter를 갖는 함수 호출이 중복되어 비효율적\n",
        "\n",
        "\n",
        "## DP 💡ideation\n",
        "- 정보를 미리 저장해두고 작은 문제부터 하나하나씩 해결해가면 어떨까?\n",
        "\n",
        "> **2를 8번 더하면 16**이다. -> 2를 9번 더할 때는 다시 더하지 말고 **2를 8번 더한 것**에 2를 더하면 돼!\n",
        "\n",
        "### memoization\n",
        "\n",
        "\n",
        "![](https://images.velog.io/images/crosstar1228/post/0b596602-efc4-4b55-bd3f-984b1c627bf0/image.png)\n",
        "[https://hyunlee103.tistory.com/73]\n",
        "\n",
        "\n",
        "- Recursion : top-down으로 task의 맨 위부터 호출\n",
        "- DP : sub instance인 F(0)부터 그 결과를 memoization에 저장 (bottom-up)\n",
        "\n",
        "> 위 그림을 각각 코드로 구현해 봅시다."
      ]
    },
    {
      "cell_type": "code",
      "metadata": {
        "id": "2JjQ_hgdkpI_"
      },
      "source": [
        "#recursive\n",
        "def fibonacci(x):\n",
        "  if x==0:\n",
        "    return 0\n",
        "  if x==1:\n",
        "    return 1\n",
        "  return fibonacci(x-1)+fibonacci(x-2)"
      ],
      "execution_count": 1,
      "outputs": []
    },
    {
      "cell_type": "code",
      "metadata": {
        "colab": {
          "base_uri": "https://localhost:8080/"
        },
        "id": "XPVuuphNmDrM",
        "outputId": "16136a1f-4686-4146-e043-1e39b3800367"
      },
      "source": [
        "fibonacci(8)"
      ],
      "execution_count": 3,
      "outputs": [
        {
          "output_type": "execute_result",
          "data": {
            "text/plain": [
              "21"
            ]
          },
          "metadata": {},
          "execution_count": 3
        }
      ]
    },
    {
      "cell_type": "code",
      "metadata": {
        "id": "jTfliVmxm3gl"
      },
      "source": [
        "#dp\n",
        "def fibonacci_dp(x):\n",
        "  dic = {}\n",
        "  dic[0] = 0\n",
        "  dic[1] = 1\n",
        "  for itr in range(2, x+1):\n",
        "    dic[itr] = dic[itr-2] + dic[itr-1]\n",
        "  return dic[x]\n"
      ],
      "execution_count": 6,
      "outputs": []
    },
    {
      "cell_type": "code",
      "metadata": {
        "colab": {
          "base_uri": "https://localhost:8080/"
        },
        "id": "ZWmctRNPqRD-",
        "outputId": "f491ea58-7e85-4439-a05f-6a757385f644"
      },
      "source": [
        "fibonacci_dp(8)"
      ],
      "execution_count": 7,
      "outputs": [
        {
          "output_type": "execute_result",
          "data": {
            "text/plain": [
              "21"
            ]
          },
          "metadata": {},
          "execution_count": 7
        }
      ]
    },
    {
      "cell_type": "markdown",
      "metadata": {
        "id": "SDcn-LIbqdcm"
      },
      "source": [
        "## 🧐정리\n",
        "- dp를 사용하면 recursion과 달리 매 0,1 결과값으로 그 다음 스텝 값을 계속 저장한다. \n",
        "- 여기서는 memoization table로 dictionary 자료구조를 이용했다."
      ]
    },
    {
      "cell_type": "code",
      "metadata": {
        "id": "-6jGlS5hqyiW"
      },
      "source": [
        ""
      ],
      "execution_count": null,
      "outputs": []
    }
  ]
}