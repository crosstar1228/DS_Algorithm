{
 "cells": [
  {
   "cell_type": "markdown",
   "id": "5d4aa2ea",
   "metadata": {},
   "source": [
    "## two pointers\n",
    "\n",
    "### 장점\n",
    "1. Linear time complexity O(n)\n",
    " - 루프 내 알고리즘이 O(1) 이면 굉장히 효율적\n",
    "\n",
    "### 방법1\n",
    "- left, right pointer : while left<\\right 로 범위 좁혀나감\n",
    "\n",
    "### 방법2\n",
    "- two-arr pointer : 각각 while i<\\len(arr1) and j<\\len(arr2) 로 범위 좁혀나감\n"
   ]
  },
  {
   "cell_type": "code",
   "execution_count": null,
   "id": "275cb077",
   "metadata": {},
   "outputs": [],
   "source": [
    "# Example 1: Palindrome given string s, return the bool if it is palindrome\n",
    "\n",
    "def palindrome(s):\n",
    "    left= 0\n",
    "    right = len(s) - 1\n",
    "    \n",
    "    while left < right:\n",
    "        if s[left] == s[right]:\n",
    "            left +=1\n",
    "            right -=1\n",
    "        else:\n",
    "            return False\n",
    "    return True\n",
    "            "
   ]
  },
  {
   "cell_type": "code",
   "execution_count": 8,
   "id": "e49e0238",
   "metadata": {},
   "outputs": [
    {
     "name": "stdout",
     "output_type": "stream",
     "text": [
      "True\n",
      "False\n"
     ]
    }
   ],
   "source": [
    "s = \"여보안경안보여\"\n",
    "print(palindrome(s))\n",
    "s = \"장가간가장후\"\n",
    "print(palindrome(s))\n"
   ]
  },
  {
   "cell_type": "code",
   "execution_count": null,
   "id": "9578ae9f",
   "metadata": {},
   "outputs": [],
   "source": [
    "# Example 2: given arr, target, return the indices of the two numbers such that they add up to target\n",
    "\n",
    "# def two_sum(arr, target): # 틀린 풀이\n",
    "#     left = 0\n",
    "#     right = len(arr) - 1\n",
    "#     stride = 2\n",
    "#     while left < right:\n",
    "#         if sum(arr[left:left+stride])==target:\n",
    "#             return True\n",
    "#         left +=1\n",
    "#     return False\n",
    "# 나란히 2개가 아니라, 1) 나열이 되어있고 2) 떨어져 있는 pair도 문제없음\n",
    "\n",
    "def two_sum(arr, target):\n",
    "    left = 0\n",
    "    right = len(arr) - 1\n",
    "    while left < right:\n",
    "        if arr[left] + arr[right] == target:\n",
    "            return [left, right]\n",
    "        elif arr[left] + arr[right] < target:\n",
    "            left += 1\n",
    "        else:\n",
    "            right -= 1\n",
    "    return []"
   ]
  },
  {
   "cell_type": "code",
   "execution_count": 16,
   "id": "4eef2082",
   "metadata": {},
   "outputs": [
    {
     "data": {
      "text/plain": [
       "[0, 1]"
      ]
     },
     "execution_count": 16,
     "metadata": {},
     "output_type": "execute_result"
    }
   ],
   "source": [
    "arr = [2, 7, 11, 15]\n",
    "target = 9\n",
    "two_sum(arr, target)"
   ]
  },
  {
   "cell_type": "code",
   "execution_count": null,
   "id": "0cf5723a",
   "metadata": {},
   "outputs": [
    {
     "name": "stdout",
     "output_type": "stream",
     "text": [
      "[1, 3, 4, 5, 6, 7, 10]\n"
     ]
    }
   ],
   "source": [
    "# Example 3: given two sorted arrays, return a new sorted array\n",
    "arr1 = [1,4,7,10]\n",
    "arr2 = [3,5,6]\n",
    "\n",
    "def new_sorted_arr(arr1, arr2):\n",
    "    i, j = 0, 0\n",
    "    new_arr = []\n",
    "    while i < len(arr1) and j < len(arr2):\n",
    "        if arr1[i] < arr2[j]:\n",
    "            new_arr.append(arr1[i])\n",
    "            i += 1\n",
    "        else:\n",
    "            new_arr.append(arr2[j])\n",
    "            j += 1\n",
    "    \n",
    "    while j < len(arr2):\n",
    "        new_arr.append(arr2[j])\n",
    "        j += 1\n",
    "    while i < len(arr1):\n",
    "        new_arr.append(arr1[i])\n",
    "        i += 1\n",
    "\n",
    "    return new_arr\n",
    "\n",
    "print(new_sorted_arr(arr1, arr2))"
   ]
  },
  {
   "cell_type": "code",
   "execution_count": null,
   "id": "0e6dea60",
   "metadata": {},
   "outputs": [
    {
     "name": "stdout",
     "output_type": "stream",
     "text": [
      "True\n"
     ]
    }
   ],
   "source": [
    "# Example 4: Is subsequence\n",
    "\n",
    "\n",
    "def is_subsequence(s, t):\n",
    "    i, j = 0, 0\n",
    "    while i < len(s) and j<len(t):\n",
    "        # i는 겹칠때만 다음으로 넘어감\n",
    "        if s[i] == t[j]:\n",
    "            i+=1\n",
    "        # j는 무조건 끝까지 확인해야 함\n",
    "        j+=1\n",
    "    return i == len(s)\n",
    "\n",
    "print(is_subsequence(\"abc\", \"ahbgdc\"))\n"
   ]
  },
  {
   "cell_type": "code",
   "execution_count": null,
   "id": "3c9e21cc",
   "metadata": {},
   "outputs": [],
   "source": [
    "# Example 5: Split symmetric parts\n",
    "# test case 1: \"abacbaa\" -> [\"a\", \"ba\", \"c\", \"ba\", \"a\"]\n",
    "# test case 3: \"abcdef\" -> [\"abcdef\"]\n",
    "# test case 4: \"lollol\" -> [\"l\", \"o\", \"l\", \"o\", \"l\"]\n",
    "\n",
    "# 더 직관적인 버전\n",
    "def split_symmetric_parts_intuitive(s):\n",
    "    \"\"\"더 직관적인 버전: 왼쪽과 오른쪽을 분리해서 관리\"\"\"\n",
    "    left_parts = []   # 왼쪽에서 찾은 부분들\n",
    "    right_parts = []  # 오른쪽에서 찾은 부분들\n",
    "    left = 0\n",
    "    right = len(s) - 1\n",
    "\n",
    "    while left < right:\n",
    "        found = False\n",
    "        for i in range(1, right - left + 1):\n",
    "            prefix = s[left:left+i]\n",
    "            suffix = s[right-i+1:right+1]\n",
    "            \n",
    "            if prefix == suffix:\n",
    "                left_parts.append(prefix)\n",
    "                right_parts.insert(0, suffix)  # 역순으로 삽입\n",
    "                left += i\n",
    "                right -= i\n",
    "                found = True\n",
    "                break\n",
    "                \n",
    "        if not found:\n",
    "            break\n",
    "\n",
    "    # 결과 조합: 왼쪽 부분들 + 가운데 + 오른쪽 부분들\n",
    "    result = left_parts[:]\n",
    "    if left <= right:\n",
    "        result.append(s[left:right+1])  # 가운데 부분\n",
    "    result.extend(right_parts)\n",
    "    \n",
    "    return result"
   ]
  },
  {
   "cell_type": "code",
   "execution_count": null,
   "id": "c0ceb09d",
   "metadata": {},
   "outputs": [],
   "source": []
  }
 ],
 "metadata": {
  "kernelspec": {
   "display_name": ".venv",
   "language": "python",
   "name": "python3"
  },
  "language_info": {
   "codemirror_mode": {
    "name": "ipython",
    "version": 3
   },
   "file_extension": ".py",
   "mimetype": "text/x-python",
   "name": "python",
   "nbconvert_exporter": "python",
   "pygments_lexer": "ipython3",
   "version": "3.11.4"
  }
 },
 "nbformat": 4,
 "nbformat_minor": 5
}
