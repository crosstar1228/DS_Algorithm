{
 "cells": [
  {
   "cell_type": "markdown",
   "id": "375b6c72",
   "metadata": {},
   "source": [
    "## Sliding Window\n",
    "- array 의 subarray를 쓰기 위해 사용\n",
    "- 일반적으로 left, right index를 사용함\n",
    "\n",
    "### 유형\n",
    "1. 제약 조건 만족(subarray 합이 10, subarray의 유니크한 원소 개수, 빈도 )\n",
    "2. 제약 조건의 수적인 제한\n",
    "\n",
    "> 한마디로, \"유효한\" subarray의 특정값이나 subarray자체를 찾는 문제는 이렇게 접근하면 됨\n",
    "\n",
    "\n",
    "### 예시\n",
    "- 합이 k이하인 가장 긴 subarray를 찾으시오 (제약조건: 합)\n",
    "- 최소 하나의 `\"0\"` 이 있는 가장 긴 substring을 찾으시오 (제약조건: 유니크한 원소)\n",
    "- 곱이 k이하인 subarray의 개수를 구하시오 (제약조건: 곱)\n",
    "\n",
    "-  구현 시 별도 array로 저장해야 할까?\n",
    "    - 아니, 그냥 맨 오른쪽 값만 더하거나`curr += nums[right]` 맨 왼쪽 값만 빼면 `curr -= nums[left]` 됨. 왼쪽에서 빠지고 오른쪽에서 추가될거니까.\n",
    "\n"
   ]
  },
  {
   "cell_type": "markdown",
   "id": "cd06110c",
   "metadata": {},
   "source": [
    "# PseudoCode\n",
    "\n",
    "```\n",
    "function fn(arr):\n",
    "    left = 0\n",
    "    for (int right = 0; right < arr.length; right++):\n",
    "        Do some logic to \"add\" element at arr[right] to window\n",
    "\n",
    "        while WINDOW_IS_INVALID:\n",
    "            Do some logic to \"remove\" element at arr[left] from window\n",
    "            left++\n",
    "\n",
    "        Do some logic to update the answer\n",
    "```"
   ]
  },
  {
   "cell_type": "code",
   "execution_count": 5,
   "id": "56522c2f",
   "metadata": {},
   "outputs": [],
   "source": [
    "# Example 1: Given an array of positive integers nums and an integer k, find the length of the longest subarray whose sum is less than or equal to k. \n",
    "\n",
    "def get_longest_subarray(nums, k) -> int:\n",
    "    left =0\n",
    "    curr = 0\n",
    "    ans = 0 # longest 길이\n",
    "    for right in range(len(nums)):\n",
    "        curr += nums[right] # 일단 맨 오른쪽 더함\n",
    "        while curr > k:\n",
    "            curr-=nums[left]\n",
    "            left+=1 # 초기화할 필요는 없다.  어차피 다 양수고, 이미 합이 k는 초과한 상태이기 때문\n",
    "        ans = max(ans, right-left+1)\n",
    "    return ans\n",
    " "
   ]
  },
  {
   "cell_type": "code",
   "execution_count": 6,
   "id": "c8792d73",
   "metadata": {},
   "outputs": [
    {
     "data": {
      "text/plain": [
       "5"
      ]
     },
     "execution_count": 6,
     "metadata": {},
     "output_type": "execute_result"
    }
   ],
   "source": [
    "arr1 = [1, 2, 3, 4, 5, 6, 7, 8, 9, 10]\n",
    "k = 15\n",
    "\n",
    "get_longest_subarray(arr1, k)"
   ]
  },
  {
   "cell_type": "code",
   "execution_count": 7,
   "id": "d7ae86c1",
   "metadata": {},
   "outputs": [],
   "source": [
    "# Example 2: You are given a binary string s (a string containing only \"0\" and \"1\"). You may choose up to one \"0\" and flip it to a \"1\". What is the length of the longest substring achievable that contains only \"1\"?\n",
    "\n",
    "# For example, given s = \"1101100111\", the answer is 5. If you perform the flip at index 2, the string becomes 1111100111.\n",
    "\n",
    "\n",
    "# def longest_subarray(s: str) -> int:\n",
    "#     left = right = 0\n",
    "#     max_length = 0\n",
    "#     for right in range(len(s)):\n",
    "#         subarr = s[left:right+1]   \n",
    "\n",
    "\n",
    "def find_length(s):\n",
    "    # curr is the current number of zeros in the window\n",
    "    left = curr = ans = 0 \n",
    "    for right in range(len(s)):\n",
    "        if s[right] == \"0\":\n",
    "            curr += 1\n",
    "        while curr > 1:\n",
    "            if s[left] == \"0\":\n",
    "                curr -= 1\n",
    "            left += 1\n",
    "        ans = max(ans, right - left + 1)\n",
    "    \n",
    "    return ans     \n"
   ]
  },
  {
   "cell_type": "code",
   "execution_count": null,
   "id": "a9d1bfa2",
   "metadata": {},
   "outputs": [],
   "source": []
  }
 ],
 "metadata": {
  "kernelspec": {
   "display_name": ".venv",
   "language": "python",
   "name": "python3"
  },
  "language_info": {
   "codemirror_mode": {
    "name": "ipython",
    "version": 3
   },
   "file_extension": ".py",
   "mimetype": "text/x-python",
   "name": "python",
   "nbconvert_exporter": "python",
   "pygments_lexer": "ipython3",
   "version": "3.11.4"
  }
 },
 "nbformat": 4,
 "nbformat_minor": 5
}
