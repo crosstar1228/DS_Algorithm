{
  "nbformat": 4,
  "nbformat_minor": 0,
  "metadata": {
    "colab": {
      "provenance": [],
      "authorship_tag": "ABX9TyP/IpuSzvIeiULJaH8UFDKc",
      "include_colab_link": true
    },
    "kernelspec": {
      "name": "python3",
      "display_name": "Python 3"
    },
    "language_info": {
      "name": "python"
    }
  },
  "cells": [
    {
      "cell_type": "markdown",
      "metadata": {
        "id": "view-in-github",
        "colab_type": "text"
      },
      "source": [
        "<a href=\"https://colab.research.google.com/github/crosstar1228/DS_Algorithm/blob/main/search_algorithm/Binary_search.ipynb\" target=\"_parent\"><img src=\"https://colab.research.google.com/assets/colab-badge.svg\" alt=\"Open In Colab\"/></a>"
      ]
    },
    {
      "cell_type": "markdown",
      "source": [
        "# 이진탐색\n",
        "- 정렬된 배열을 가정\n",
        "- 검색이 반복될 때마다 검색 범위가 절반으로 줄기 때문에 속도가 빠름\n",
        "- Time Complexity : `O(logn)`\n",
        "- **`iteration`, `recursive` 크게 두가지 구현 방법이 있음**\n",
        "\n",
        "> [linear search VS binary search](https://velog.io/@crosstar1228/%EC%9E%90%EB%A3%8C%EA%B5%AC%EC%A1%B0Linear-Search-VS-Binary-Search)"
      ],
      "metadata": {
        "id": "8YeTvl9Wtu6b"
      }
    },
    {
      "cell_type": "code",
      "source": [
        "arr = [1, 3, 5, 7, 9, 11]\n",
        "# goal: target 값이 있는 index를 찾는것"
      ],
      "metadata": {
        "id": "zMbfC7w8vPT7"
      },
      "execution_count": 1,
      "outputs": []
    },
    {
      "cell_type": "code",
      "execution_count": 2,
      "metadata": {
        "colab": {
          "base_uri": "https://localhost:8080/"
        },
        "id": "are1DBwvtnvq",
        "outputId": "a41f56dc-c4de-45c2-fbda-deab3f593c41"
      },
      "outputs": [
        {
          "output_type": "stream",
          "name": "stdout",
          "text": [
            "2\n",
            "-1\n"
          ]
        }
      ],
      "source": [
        "#1. Iteration method\n",
        "def binary_search(arr, target):\n",
        "    start, end = 0, len(arr) -1\n",
        "    while start <= end:\n",
        "      mid = (start + end) // 2\n",
        "      if arr[mid] == target:\n",
        "        return mid\n",
        "      elif arr[mid] > target: # 왼쪽에 있다\n",
        "        end = mid -1\n",
        "      else: # arr[mid] < target # 오른쪽에 있다\n",
        "        start = mid + 1\n",
        "    return -1\n",
        "print(binary_search(arr, 5))  # 2\n",
        "print(binary_search(arr, 6))  # -1 (없음)"
      ]
    },
    {
      "cell_type": "code",
      "source": [
        "#2. Recursive method\n",
        "def binary_search_recur(arr, target, start, end):\n",
        "  if start>end:\n",
        "    return -1\n",
        "  mid = (start + end) //2\n",
        "  if arr[mid] == target:\n",
        "    return mid\n",
        "  elif arr[mid] > target : # 왼쪽에 있다\n",
        "    return binary_search_recur(arr, target, start, mid-1)\n",
        "  else: # 오른쪽에 있다\n",
        "    return binary_search_recur(arr, target, mid+1, end)\n",
        "\n",
        "\n",
        "print(binary_search_recur(arr, 5, 0, len(arr) - 1))  # 2\n",
        "print(binary_search_recur(arr, 6, 0, len(arr) - 1))  # -1"
      ],
      "metadata": {
        "colab": {
          "base_uri": "https://localhost:8080/"
        },
        "id": "w-9z3s9Zu68_",
        "outputId": "3a9f4eec-5f42-4ecc-bc1f-bea7ae53b15e"
      },
      "execution_count": 4,
      "outputs": [
        {
          "output_type": "stream",
          "name": "stdout",
          "text": [
            "2\n",
            "-1\n"
          ]
        }
      ]
    },
    {
      "cell_type": "markdown",
      "source": [
        "# 중요 point\n",
        "- target이 기준.\n",
        "- 공간복잡도는 iteration 방법이 나음( O(1) > O(long n))"
      ],
      "metadata": {
        "id": "LwhFSl3V2JFF"
      }
    },
    {
      "cell_type": "code",
      "source": [],
      "metadata": {
        "id": "ozIZztVx3OxP"
      },
      "execution_count": null,
      "outputs": []
    }
  ]
}