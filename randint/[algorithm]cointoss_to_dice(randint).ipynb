{
  "nbformat": 4,
  "nbformat_minor": 0,
  "metadata": {
    "colab": {
      "name": "[algorithm]cointoss_to_dice(randint).ipynb",
      "provenance": []
    },
    "kernelspec": {
      "name": "python3",
      "display_name": "Python 3"
    },
    "language_info": {
      "name": "python"
    }
  },
  "cells": [
    {
      "cell_type": "code",
      "execution_count": 1,
      "metadata": {
        "colab": {
          "base_uri": "https://localhost:8080/"
        },
        "id": "DdBWwvsQl07a",
        "outputId": "aad457c5-8775-4c1f-9daa-2c307db6476a"
      },
      "outputs": [
        {
          "output_type": "execute_result",
          "data": {
            "text/plain": [
              "1"
            ]
          },
          "metadata": {},
          "execution_count": 1
        }
      ],
      "source": [
        "import random\n",
        "def cointoss():\n",
        "  return random.randint(0,1)\n",
        "\n",
        "cointoss()"
      ]
    },
    {
      "cell_type": "markdown",
      "source": [
        "## 문제:\n",
        "0또는 1의 난수를 생성하는 cointoss() 함수가 있다.\n",
        "이로부터 1부터 6까지의 난수를 고르게 생성하는 dice()함수를 구현하시오.\n",
        "(단,random 함수 및 새로운 모듈 사용불가, 단순 사칙연산 및 python 기본 연산으로 해결)\n",
        "\n",
        "> 핵심 idea\n",
        "- 나에게 실제로 동전이 있다고 생각하고, 이 동전으로 주사위를 던지는 효과를 내고 싶다고 가정\n",
        "- 동전을 2번 던지면 4개, 3번 던지면 총 8개의 경우의 수가 나옴. 여기서 8개 중 두 경우는 다시 처음부터 동전을 던지는 시행으로 돌아가고, 나머지 6경우는 각각 1부터 6까지의 결과물을 내도록 조작한다. 범위에서 벗어난 두 경우 reset되기 때문에 균일하게 1부터 6까지의 결과를 낼 수 있따. "
      ],
      "metadata": {
        "id": "uKvAxXTnmvsC"
      }
    },
    {
      "cell_type": "code",
      "source": [
        "def dice():\n",
        "  a = cointoss()\n",
        "  if a==0:\n",
        "    b1= cointoss()\n",
        "    if b1==0:\n",
        "      \n",
        "      c1 = cointoss()\n",
        "      if c1 ==0:\n",
        "        return dice()\n",
        "      else: \n",
        "        return c1\n",
        "    else:\n",
        "      c2 = cointoss()+2\n",
        "      return c2\n",
        "      \n",
        "  if a==1:\n",
        "    b2 = cointoss()\n",
        "    if b2==0:\n",
        "      c3=cointoss() + 4\n",
        "      return c3\n",
        "    else:\n",
        "      c4 =cointoss() +6\n",
        "      if c4==7:\n",
        "        return dice()\n",
        "      else:\n",
        "        return c4"
      ],
      "metadata": {
        "id": "3DnnYGhnbq96"
      },
      "execution_count": 2,
      "outputs": []
    },
    {
      "cell_type": "code",
      "source": [
        "for i in range(10):\n",
        "  print(dice())"
      ],
      "metadata": {
        "colab": {
          "base_uri": "https://localhost:8080/"
        },
        "id": "j5P4GLnwdW36",
        "outputId": "6c96489b-c8af-4b90-e598-f8c68271b1ff"
      },
      "execution_count": 4,
      "outputs": [
        {
          "output_type": "stream",
          "name": "stdout",
          "text": [
            "6\n",
            "5\n",
            "1\n",
            "5\n",
            "2\n",
            "3\n",
            "2\n",
            "2\n",
            "3\n",
            "3\n"
          ]
        }
      ]
    }
  ]
}