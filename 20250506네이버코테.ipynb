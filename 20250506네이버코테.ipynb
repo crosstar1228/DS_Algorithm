{
  "nbformat": 4,
  "nbformat_minor": 0,
  "metadata": {
    "colab": {
      "provenance": [],
      "authorship_tag": "ABX9TyMIXHduyuTg1YKnE9vkcPnw",
      "include_colab_link": true
    },
    "kernelspec": {
      "name": "python3",
      "display_name": "Python 3"
    },
    "language_info": {
      "name": "python"
    }
  },
  "cells": [
    {
      "cell_type": "markdown",
      "metadata": {
        "id": "view-in-github",
        "colab_type": "text"
      },
      "source": [
        "<a href=\"https://colab.research.google.com/github/crosstar1228/DS_Algorithm/blob/main/20250506%EB%84%A4%EC%9D%B4%EB%B2%84%EC%BD%94%ED%85%8C.ipynb\" target=\"_parent\"><img src=\"https://colab.research.google.com/assets/colab-badge.svg\" alt=\"Open In Colab\"/></a>"
      ]
    },
    {
      "cell_type": "markdown",
      "source": [
        "## 첫 번째 문제\n",
        "\n",
        "  •\t길이(2의 제곱수)인 정수 배열 가 주어짐\n",
        "\n",
        "\n",
        "•\t인접한 원소끼리 토너먼트 방식으로 대결, 승자만 다음 라운드 진출\n",
        "\n",
        "  \n",
        "  •\t이 과정을 원소가 2개 남을 때까지 반복\n",
        "\n",
        "  \n",
        "  •\t각 원소가 토너먼트에 몇 번 참가했는지 배열로 반환 (예시: 2351→1221)\n",
        "\n",
        "\n",
        "\n",
        "예시\n",
        "A = [2, 3, 5, 1]\n",
        "\n",
        "1라운드:\n",
        "(2, 3) → 3 승 → 2와 3은 1번 참여\n",
        "(5, 1) → 5 승 → 5와 1은 1번 참여\n",
        "\n",
        "2라운드:\n",
        "(3, 5) → 5 승 → 3과 5는 1번 참여\n",
        "\n",
        "총 참여 횟수:\n",
        "2 → 1번\n",
        "3 → 2번\n",
        "5 → 2번\n",
        "1 → 1번\n",
        "정답: [1,2,2,1]\n"
      ],
      "metadata": {
        "id": "gLMI22b4CvEP"
      }
    },
    {
      "cell_type": "markdown",
      "source": [
        "### Divide and Conquer\n",
        "- 배열을 절반으로 나누고, 양쪽에서 각각 우승자를 뽑은 뒤 승자를 다시 비교\n",
        "- 각 레벨마다 비교에 참여한 원소를 기록"
      ],
      "metadata": {
        "id": "SaQYwCLCGSb4"
      }
    },
    {
      "cell_type": "code",
      "source": [
        "A = [2, 3,5,1]\n",
        "N = len(A)\n",
        "indices = list(range(N))\n",
        "\n",
        "print(indices)"
      ],
      "metadata": {
        "colab": {
          "base_uri": "https://localhost:8080/"
        },
        "id": "OWsGfXMBHbsZ",
        "outputId": "1fb6c1db-7acf-4e02-bbc6-62ee6e959dab"
      },
      "execution_count": 2,
      "outputs": [
        {
          "output_type": "stream",
          "name": "stdout",
          "text": [
            "[0, 1, 2, 3]\n"
          ]
        }
      ]
    },
    {
      "cell_type": "code",
      "source": [
        "# 풀이 1\n",
        "def tournament_counts(A):\n",
        "    N = len(A)\n",
        "    counts = [0] * N\n",
        "    indices = list(range(N))  # 각 원소의 인덱스 추적\n",
        "\n",
        "    while len(indices) > 2:\n",
        "        next_indices = []\n",
        "        for i in range(0, len(indices), 2):\n",
        "            left, right = indices[i], indices[i+1]\n",
        "            counts[left] += 1\n",
        "            counts[right] += 1\n",
        "            # 승자만 다음 라운드로\n",
        "            if A[left] > A[right]:\n",
        "                next_indices.append(left)\n",
        "            else:\n",
        "                next_indices.append(right)\n",
        "        indices = next_indices\n",
        "\n",
        "    # 마지막 2개도 한 번씩 참가\n",
        "    counts[indices[0]] += 1\n",
        "    counts[indices[1]] += 1\n",
        "    return counts"
      ],
      "metadata": {
        "id": "-0WpWYshMVPH"
      },
      "execution_count": null,
      "outputs": []
    },
    {
      "cell_type": "code",
      "source": [
        "from collections import deque\n",
        "# 풀이 2\n",
        "def count_matches(A):\n",
        "    N = len(A)\n",
        "    count = [0] * N\n",
        "    queue = deque(range(N))\n",
        "\n",
        "    while len(queue) > 1:\n",
        "        next_queue = deque()\n",
        "        while queue:\n",
        "            i = queue.popleft()\n",
        "            j = queue.popleft()\n",
        "\n",
        "            count[i] += 1\n",
        "            count[j] += 1\n",
        "\n",
        "            winner = i if A[i] > A[j] else j\n",
        "            next_queue.append(winner)\n",
        "\n",
        "        queue = next_queue\n",
        "\n",
        "    return count"
      ],
      "metadata": {
        "id": "0dBnYucVG66T"
      },
      "execution_count": null,
      "outputs": []
    },
    {
      "cell_type": "code",
      "source": [
        "A = [3,4,6,5,9,7,2,10]"
      ],
      "metadata": {
        "id": "Rf_D8agPM7-4"
      },
      "execution_count": 3,
      "outputs": []
    },
    {
      "cell_type": "code",
      "source": [
        "def tournament(A):\n",
        "\n",
        "  N = len(A)\n",
        "  numbers = [1]*N\n",
        "  # point 1. index또한 array화\n",
        "  indices_list = list(range(N))\n",
        "\n",
        "  while len(indices_list) > 2:\n",
        "    new_indices = []\n",
        "    for i in range(0, len(indices_list), 2):\n",
        "      left= indices_list[i]\n",
        "      right = indices_list[i+1]\n",
        "      new_indices.append(left) if A[left]>A[right] else new_indices.append(right)\n",
        "    indices_list = new_indices\n",
        "    for idx in indices_list:\n",
        "      numbers[idx] += 1\n",
        "  return numbers\n",
        "\n",
        "\n",
        "tournament(A)"
      ],
      "metadata": {
        "colab": {
          "base_uri": "https://localhost:8080/"
        },
        "id": "kwDBWcCPNE38",
        "outputId": "388147ec-5e6f-42e0-acf1-db8ccdb6e4fe"
      },
      "execution_count": 9,
      "outputs": [
        {
          "output_type": "execute_result",
          "data": {
            "text/plain": [
              "[1, 2, 3, 1, 2, 1, 1, 3]"
            ]
          },
          "metadata": {},
          "execution_count": 9
        }
      ]
    },
    {
      "cell_type": "markdown",
      "source": [
        "## 두 번째 문제\n",
        "\n",
        "1. Longest Valid Chain 문제\n",
        "\n",
        "두 색깔로 이어붙여진 타일이 하나의 원소를 이루는 array를 가정.\n",
        "여기서 일부 타일을 뺴서 인접한 색깔의 타일은 같은 색깔을 이루도록 해야함.\n",
        "각각의 타일을 뺐을 때 가장 최소개수만 뺴서 조건을 만족하는 타일 array의 길이를 반환하는 코드를 짜보자.\n",
        "\n",
        "\n",
        "ex:\n",
        "`tiles = [\"RG\", \"RR\", \"GG\", \"GR\"]`\n",
        "-> 중간에 \"RR\" 빼면 조건 만족 -> 최장길이 3개"
      ],
      "metadata": {
        "id": "R7ODAP-kVNbi"
      }
    },
    {
      "cell_type": "code",
      "source": [
        "# dynamic programming으로  플이\n",
        "\n",
        "def get_longest_chain(tiles:list[str]):\n",
        "  n = len(tiles) # array 길이\n",
        "  # dp[i] : i번째 index까지의 최대 길이 -> 중요 idea는, 각 index별로 나누어 최대 길이를 산정하는 것.\n",
        "  dp = [1]*n\n",
        "\n",
        "  for i in range(1,n):\n",
        "    for j in range(i):\n",
        "      if tiles[j][1] == tiles[i][0]:\n",
        "        dp[i] = max(dp[j]+1, dp[i])\n",
        "    print(dp)\n",
        "  return max(dp)\n",
        "\n",
        "\n"
      ],
      "metadata": {
        "id": "hM3jJLiNfH2N"
      },
      "execution_count": 3,
      "outputs": []
    },
    {
      "cell_type": "code",
      "source": [
        "tiles = [\"RG\", \"RR\", \"GG\", \"GR\"]\n",
        "\n",
        "get_longest_chain(tiles)"
      ],
      "metadata": {
        "colab": {
          "base_uri": "https://localhost:8080/"
        },
        "id": "D0K7bXSUkY-G",
        "outputId": "1936634c-4577-4b40-b405-56fd739ce94e"
      },
      "execution_count": 4,
      "outputs": [
        {
          "output_type": "stream",
          "name": "stdout",
          "text": [
            "[1, 1, 1, 1]\n",
            "[1, 1, 2, 1]\n",
            "[1, 1, 2, 3]\n"
          ]
        },
        {
          "output_type": "execute_result",
          "data": {
            "text/plain": [
              "3"
            ]
          },
          "metadata": {},
          "execution_count": 4
        }
      ]
    },
    {
      "cell_type": "code",
      "source": [],
      "metadata": {
        "id": "A58Npc5JkhVl"
      },
      "execution_count": null,
      "outputs": []
    }
  ]
}