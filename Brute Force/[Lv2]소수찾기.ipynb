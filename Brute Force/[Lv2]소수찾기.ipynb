{
  "nbformat": 4,
  "nbformat_minor": 0,
  "metadata": {
    "colab": {
      "name": "소수찾기.ipynb",
      "provenance": []
    },
    "kernelspec": {
      "name": "python3",
      "display_name": "Python 3"
    },
    "language_info": {
      "name": "python"
    }
  },
  "cells": [
    {
      "cell_type": "markdown",
      "source": [
        "[프로그래머스 문제 풀기(소수 찾기)](https://programmers.co.kr/learn/courses/30/lessons/42839)\n"
      ],
      "metadata": {
        "id": "inV30M4Wp4As"
      }
    },
    {
      "cell_type": "markdown",
      "source": [
        "## ideation😎\n",
        "- permutations 이용(숫자 수가 7개 이하라는 조건이 있기 때문에)\n",
        "- 소수임을 판별하는 is_prime 함수 사용\n",
        "- solution\n"
      ],
      "metadata": {
        "id": "ucU2stJprMg2"
      }
    },
    {
      "cell_type": "code",
      "execution_count": 1,
      "metadata": {
        "id": "LU3FBYXboeXH"
      },
      "outputs": [],
      "source": [
        "from itertools import permutations\n",
        "import math\n",
        "\n",
        "def is_prime(x):\n",
        "    for i in range(2,int(math.sqrt(x))+1):\n",
        "        if x%i==0:\n",
        "             return False\n",
        "    if x==1 or x==0:\n",
        "        return False\n",
        "    return True\n",
        "\n",
        "def solution(numbers):\n",
        "    # print(numbers)\n",
        "    numlist = []\n",
        "    for r in range(1,len(numbers)+1):\n",
        "        for i in permutations(numbers,r):\n",
        "            num=int(''.join(i))\n",
        "            if is_prime(num):\n",
        "                numlist.append(num)\n",
        "    # print(set(numlist))\n",
        "    return len(set(numlist))"
      ]
    },
    {
      "cell_type": "code",
      "source": [
        "solution(\"3456\")"
      ],
      "metadata": {
        "colab": {
          "base_uri": "https://localhost:8080/"
        },
        "id": "SZQp2VG2tyYY",
        "outputId": "e4c8481e-a48c-45bf-cfc5-6c90fc03a34a"
      },
      "execution_count": 2,
      "outputs": [
        {
          "output_type": "execute_result",
          "data": {
            "text/plain": [
              "8"
            ]
          },
          "metadata": {},
          "execution_count": 2
        }
      ]
    },
    {
      "cell_type": "markdown",
      "source": [
        "### set의 합집합 및 차집합 개념을 이용한 코드"
      ],
      "metadata": {
        "id": "osqi4YVQuE2o"
      }
    },
    {
      "cell_type": "code",
      "source": [
        "from itertools import permutations\n",
        "def solution(n):\n",
        "    a = set()\n",
        "    for i in range(len(n)):\n",
        "        a |= set(map(int, map(\"\".join, permutations(list(n), i + 1)))) # map으로 형 변환 적용하기\n",
        "    a -= set(range(0, 2))\n",
        "    for i in range(2, int(max(a) ** 0.5) + 1):\n",
        "        a -= set(range(i * 2, max(a) + 1, i))\n",
        "    return len(a)"
      ],
      "metadata": {
        "id": "JIFVqIqDpoEV"
      },
      "execution_count": 3,
      "outputs": []
    },
    {
      "cell_type": "markdown",
      "source": [
        "### 재귀적으로 풀이하는 방법\n",
        "- 3, 4, 5"
      ],
      "metadata": {
        "id": "MzeD4V1kvgz9"
      }
    },
    {
      "cell_type": "code",
      "source": [
        "primeSet = set()\n",
        "\n",
        "def is_prime(x):\n",
        "    for i in range(2,int(math.sqrt(x))+1):\n",
        "        if x%i==0:\n",
        "             return False\n",
        "    if x==1 or x==0:\n",
        "        return False\n",
        "    return True\n",
        "\n",
        "def makeCombinations(str1, str2):\n",
        "    if str1 != \"\":\n",
        "        if is_prime(int(str1)):\n",
        "            primeSet.add(int(str1))\n",
        "\n",
        "    for i in range(len(str2)):\n",
        "        makeCombinations(str1 + str2[i], str2[:i] + str2[i + 1:])\n",
        "\n",
        "\n",
        "def solution2(numbers):\n",
        "    makeCombinations(\"\", numbers)\n",
        "\n",
        "    answer = len(primeSet)\n",
        "\n",
        "    return answer"
      ],
      "metadata": {
        "id": "hnOL5EROu8Kf"
      },
      "execution_count": 4,
      "outputs": []
    },
    {
      "cell_type": "code",
      "source": [
        "solution2(\"345\")"
      ],
      "metadata": {
        "colab": {
          "base_uri": "https://localhost:8080/"
        },
        "id": "psLylq4pxuYP",
        "outputId": "d7fceacf-1a40-4013-ddbb-842350bae3ab"
      },
      "execution_count": 5,
      "outputs": [
        {
          "output_type": "execute_result",
          "data": {
            "text/plain": [
              "4"
            ]
          },
          "metadata": {},
          "execution_count": 5
        }
      ]
    },
    {
      "cell_type": "code",
      "source": [
        "allnum = set()\n",
        "\n",
        "number = '345'\n",
        "\n",
        "def make_allnum(str1, str2):\n",
        "  if str1!='':\n",
        "    allnum.add(int(str1))\n",
        "\n",
        "  for i in range(len(str2)):\n",
        "    make_allnum(str1 + str2[i], str2[:i]+ str2[i+1:])\n",
        "\n",
        "  "
      ],
      "metadata": {
        "id": "s36zLAvqxwsN"
      },
      "execution_count": 14,
      "outputs": []
    },
    {
      "cell_type": "code",
      "source": [
        "make_allnum('',number)\n",
        "allnum"
      ],
      "metadata": {
        "colab": {
          "base_uri": "https://localhost:8080/"
        },
        "id": "WiyAI-juPQHD",
        "outputId": "3097e80a-fb62-4ca8-bffd-a545928b7d59"
      },
      "execution_count": 15,
      "outputs": [
        {
          "output_type": "execute_result",
          "data": {
            "text/plain": [
              "{3, 4, 5, 34, 35, 43, 45, 53, 54, 345, 354, 435, 453, 534, 543}"
            ]
          },
          "metadata": {},
          "execution_count": 15
        }
      ]
    },
    {
      "cell_type": "code",
      "source": [
        ""
      ],
      "metadata": {
        "id": "kLdrw0AKW5te"
      },
      "execution_count": null,
      "outputs": []
    }
  ]
}