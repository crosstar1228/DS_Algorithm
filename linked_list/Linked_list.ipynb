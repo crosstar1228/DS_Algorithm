{
  "nbformat": 4,
  "nbformat_minor": 0,
  "metadata": {
    "colab": {
      "provenance": [],
      "authorship_tag": "ABX9TyOPdQ7pt+ycVMjXWoWfisiq",
      "include_colab_link": true
    },
    "kernelspec": {
      "name": "python3",
      "display_name": "Python 3"
    },
    "language_info": {
      "name": "python"
    }
  },
  "cells": [
    {
      "cell_type": "markdown",
      "metadata": {
        "id": "view-in-github",
        "colab_type": "text"
      },
      "source": [
        "<a href=\"https://colab.research.google.com/github/crosstar1228/DS_Algorithm/blob/main/linked_list/Linked_list.ipynb\" target=\"_parent\"><img src=\"https://colab.research.google.com/assets/colab-badge.svg\" alt=\"Open In Colab\"/></a>"
      ]
    },
    {
      "cell_type": "markdown",
      "source": [
        "## Linked List 구현"
      ],
      "metadata": {
        "id": "FTrY4bq3uleu"
      }
    },
    {
      "cell_type": "code",
      "execution_count": 1,
      "metadata": {
        "id": "GYu8OPBUuh0L"
      },
      "outputs": [],
      "source": [
        "# Node: value(data)와 pointer(next)로 이루어짐\n",
        "class Node:\n",
        "  def __init__(self, data):\n",
        "    self.data = data # int,str 등의 값\n",
        "    self.next = None # 다음 node의 주소를 가리킴"
      ]
    },
    {
      "cell_type": "code",
      "source": [
        "class Node:\n",
        "    def __init__(self, data):\n",
        "        self.data = data\n",
        "        self.next = None\n",
        "\n",
        "class LinkedList:\n",
        "    def __init__(self):\n",
        "        self.head = None\n",
        "\n",
        "    def is_empty(self):\n",
        "        return self.head is None\n",
        "\n",
        "    # 리스트 끝에 노드 추가\n",
        "    def append(self, data):\n",
        "        new_node = Node(data)\n",
        "\n",
        "        if self.is_empty():\n",
        "            self.head = new_node\n",
        "            return\n",
        "\n",
        "        current = self.head\n",
        "        while current.next:\n",
        "            current = current.next\n",
        "\n",
        "        current.next = new_node\n",
        "\n",
        "    # 리스트 시작에 노드 추가\n",
        "    def prepend(self, data):\n",
        "        new_node = Node(data)\n",
        "        new_node.next = self.head\n",
        "        self.head = new_node\n",
        "\n",
        "    # 특정 값을 가진 노드 삭제\n",
        "    def delete(self, data):\n",
        "        if self.is_empty():\n",
        "            return\n",
        "\n",
        "        # 헤드 노드가 삭제 대상인 경우\n",
        "        if self.head.data == data:\n",
        "            self.head = self.head.next\n",
        "            return\n",
        "\n",
        "        current = self.head\n",
        "        while current.next and current.next.data != data:\n",
        "            current = current.next\n",
        "\n",
        "        if current.next:\n",
        "            current.next = current.next.next\n",
        "\n",
        "    # 특정 위치에 노드 삽입\n",
        "    def insert_after(self, prev_data, data):\n",
        "        current = self.head\n",
        "        while current and current.data != prev_data:\n",
        "            current = current.next\n",
        "\n",
        "        if current:\n",
        "            new_node = Node(data)\n",
        "            new_node.next = current.next\n",
        "            current.next = new_node\n",
        "\n",
        "    # 리스트 출력\n",
        "    def display(self):\n",
        "        elements = []\n",
        "        current = self.head\n",
        "\n",
        "        while current:\n",
        "            elements.append(current.data)\n",
        "            current = current.next\n",
        "\n",
        "        return elements"
      ],
      "metadata": {
        "id": "Zenr0wRqu37b"
      },
      "execution_count": 2,
      "outputs": []
    },
    {
      "cell_type": "code",
      "source": [
        "# 사용 예시\n",
        "linked_list = LinkedList()\n",
        "\n",
        "linked_list.append(1)\n",
        "linked_list.append(2)\n",
        "linked_list.append(3)\n",
        "linked_list.prepend(0)\n",
        "\n",
        "print(\"연결 리스트:\", linked_list.display())  # [0, 1, 2, 3]\n",
        "\n",
        "linked_list.delete(2)\n",
        "print(\"2 삭제 후:\", linked_list.display())  # [0, 1, 3]\n",
        "\n",
        "linked_list.insert_after(1, 2)\n",
        "print(\"1 뒤에 2 삽입 후:\", linked_list.display())  # [0, 1, 2, 3]"
      ],
      "metadata": {
        "id": "bg5BUqaX9k3H"
      },
      "execution_count": null,
      "outputs": []
    }
  ]
}