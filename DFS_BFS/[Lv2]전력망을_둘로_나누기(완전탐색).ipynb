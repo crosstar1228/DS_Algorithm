{
  "nbformat": 4,
  "nbformat_minor": 0,
  "metadata": {
    "colab": {
      "provenance": [],
      "authorship_tag": "ABX9TyO0Tc+q1Hp4QJ78gcCxqvHE",
      "include_colab_link": true
    },
    "kernelspec": {
      "name": "python3",
      "display_name": "Python 3"
    },
    "language_info": {
      "name": "python"
    }
  },
  "cells": [
    {
      "cell_type": "markdown",
      "metadata": {
        "id": "view-in-github",
        "colab_type": "text"
      },
      "source": [
        "<a href=\"https://colab.research.google.com/github/crosstar1228/DS_Algorithm/blob/main/DFS_BFS/%5BLv2%5D%EC%A0%84%EB%A0%A5%EB%A7%9D%EC%9D%84_%EB%91%98%EB%A1%9C_%EB%82%98%EB%88%84%EA%B8%B0(%EC%99%84%EC%A0%84%ED%83%90%EC%83%89).ipynb\" target=\"_parent\"><img src=\"https://colab.research.google.com/assets/colab-badge.svg\" alt=\"Open In Colab\"/></a>"
      ]
    },
    {
      "cell_type": "markdown",
      "source": [
        "## 😍[문제 링크](https://school.programmers.co.kr/learn/courses/30/lessons/86971?language=python3)\n",
        "\n",
        "- 송전탑을 둘로(edge를) 쪼갰을때, 쪼개진 그 두 **송전탑의 집합(트리구조)에서 노드수 차이값의 최소**를 구하는 문제.\n",
        "- 7개의 노드에서 3,4 로 쪼개지는게 최소이므로 1이 정답."
      ],
      "metadata": {
        "id": "K9uvtbnci_30"
      }
    },
    {
      "cell_type": "code",
      "source": [
        "from collections import defaultdict\n",
        "\n",
        "def get_adjacency_dic(wires):\n",
        "    dic= defaultdict(list)\n",
        "    for v1, v2 in wires:\n",
        "        dic[v1].append(v2)\n",
        "        dic[v2].append(v1)\n",
        "    return dic\n",
        "\n",
        "def dfs_recur(graph,start ,visited:list):\n",
        "    visited.append(start)\n",
        "    for node in graph[start]:\n",
        "        if node not in visited:\n",
        "            dfs_recur(graph, node, visited)\n",
        "    return visited\n",
        "\n",
        "\n",
        "\n",
        "def solution(n, wires):\n",
        "    answer = n\n",
        "    # 혹시모르니 정렬\n",
        "    wires= sorted(wires, key=lambda x: x[0])    # 인접 리스트 생성\n",
        "    adjacency_dic = get_adjacency_dic(wires)\n",
        "\n",
        "    # v1에서 시작하고, v2는 일단 끊을 예정\n",
        "    for start, split in wires:\n",
        "        visited = []\n",
        "        visited.append(split) # 끊어진 지점은 \"이미 방문헀음\"으로 표기하는 것이 핵심\n",
        "        visited_nodes = dfs_recur(adjacency_dic,start, visited)\n",
        "        print(visited_nodes)\n",
        "\n",
        "        cnt = len(visited_nodes)-1\n",
        "        remainder = n-cnt\n",
        "\n",
        "        answer = min(abs(cnt-remainder), answer)\n",
        "\n",
        "    return answer"
      ],
      "metadata": {
        "id": "kD5QFe2xi7_B"
      },
      "execution_count": 1,
      "outputs": []
    },
    {
      "cell_type": "markdown",
      "source": [
        "## ❤️핵심 개념\n",
        "\n",
        "- 송전탑이 node고, 연결선이 edge인 트리구조를 생각했을 때, 이미 하나의 edge를 끊었을때 두 tree 집합으로 필연적으로 나뉘어짐을 가정한 걸 이해햐는게 첫쨰.\n",
        "- 송전탑의 개수는 DFS(또는 BFS) 구조로 count할것이라는 아이디어를 떠올려야 함.\n",
        "\n",
        "\n",
        "### ❤️DFS 나 BFS 관한 문제 해법\n",
        "- 기본적으로 인접행렬이 아닌 인접 리스트로 변환하는것이 우선 (필자는 `defaultdict` 사용.)\n",
        "- 그리고 **\"연결을 끊는다\"** 는 개념을 **\"방문했음을 표시\"** 하는 것으로 유추적용 하는것이 풀이의 핵심.\n",
        "  - 해당 풀이는 `DFS`인데, 항상 tree 탐색 `DFS/BFS`에서는 **\"앞으로 찾아갈 노드\"**와 **\"이미 방문한 노드\"**로 나누어 생각할 수 있어야 함.\n",
        "\n",
        "- 마지막으로 탐색이 끝나면 거쳐간 노드들의 개수 (맨 처음 끊은 노드를 제외하고)를 세고 (`len(visited_nodes)-1`) 나머지와 비교(`n-cnt`)하면 정답 완성\n",
        "\n"
      ],
      "metadata": {
        "id": "o7uZwRIwj1eg"
      }
    },
    {
      "cell_type": "code",
      "source": [],
      "metadata": {
        "id": "oDfRJEVYlaq4"
      },
      "execution_count": null,
      "outputs": []
    }
  ]
}