{
  "nbformat": 4,
  "nbformat_minor": 0,
  "metadata": {
    "colab": {
      "name": "DFS(Recursive).ipynb",
      "provenance": []
    },
    "kernelspec": {
      "name": "python3",
      "display_name": "Python 3"
    },
    "language_info": {
      "name": "python"
    }
  },
  "cells": [
    {
      "cell_type": "markdown",
      "source": [
        "## 재귀로 dfs 구현하기"
      ],
      "metadata": {
        "id": "PNOWIGdBhMyq"
      }
    },
    {
      "cell_type": "code",
      "execution_count": 1,
      "metadata": {
        "id": "XikbLiZtefcp"
      },
      "outputs": [],
      "source": [
        "graph = {'A':['B','C'],\n",
        "         'B':['A','D','E'],\n",
        "         'C':['A','G','H'],\n",
        "         'D':['B'],\n",
        "         'E':['B','F'],\n",
        "         'F':['E'],\n",
        "         'G':['C'],\n",
        "         'H':['C']}"
      ]
    },
    {
      "cell_type": "code",
      "source": [
        "# dfs 경로를 visited로 출력\n",
        "def dfs_recur(graph, start, visited=[]):\n",
        "  visited.append(start)\n",
        "  for node in graph[start]:\n",
        "    if node not in visited:\n",
        "      dfs_recur(graph,node,visited) # 재귀\n",
        "  return visited\n",
        "dfs_recur(graph,'C')"
      ],
      "metadata": {
        "colab": {
          "base_uri": "https://localhost:8080/"
        },
        "id": "9FtI3_JOgrUH",
        "outputId": "633c96a0-1346-44e9-fd45-6eaba376c395"
      },
      "execution_count": 2,
      "outputs": [
        {
          "output_type": "execute_result",
          "data": {
            "text/plain": [
              "['C', 'A', 'B', 'D', 'E', 'F', 'G', 'H']"
            ]
          },
          "metadata": {},
          "execution_count": 2
        }
      ]
    }
  ]
}