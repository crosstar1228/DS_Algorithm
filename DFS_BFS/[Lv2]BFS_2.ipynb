{
  "nbformat": 4,
  "nbformat_minor": 0,
  "metadata": {
    "colab": {
      "name": "[Lv2]BFS_2.ipynb",
      "provenance": []
    },
    "kernelspec": {
      "name": "python3",
      "display_name": "Python 3"
    },
    "language_info": {
      "name": "python"
    }
  },
  "cells": [
    {
      "cell_type": "markdown",
      "source": [
        "## BFS 기본문제.\n",
        "\n",
        "- m,n grid에서 출발지점부터 맨 끝점(m,n)까지 최단경로를 찾아가는 문제.\n",
        "- 경로 maps는 m,n 리스트이다. 길은 1, 벽은 0 으로 되어있음.\n",
        "\n",
        "- 같은 모양의 visited matrix를 만들어놓고 출발점으로부터의 거리를 element마다 추가해주는 것이 핵심."
      ],
      "metadata": {
        "id": "Lrf81ifXqbnI"
      }
    },
    {
      "cell_type": "code",
      "execution_count": null,
      "metadata": {
        "id": "6CJADqNDqZ0B"
      },
      "outputs": [],
      "source": [
        "from collections import deque\n",
        "\n",
        "\n",
        "def bfs(y,x,maps):\n",
        "    n = len(maps)\n",
        "    m = len(maps[0])\n",
        "    d= [(-1,0),(1,0),(0,-1),(0,1)]\n",
        "    que=deque()\n",
        "    que.append((y,x))\n",
        "    visited = [[0]*m for i in range(n)]\n",
        "    visited[y][x]=1\n",
        "    while que:\n",
        "        qy,qx=que.popleft()\n",
        "        for dy,dx in d:\n",
        "            my=qy+dy\n",
        "            mx=qx+dx\n",
        "            if my<0 or my>=n or mx<0 or mx>=m:\n",
        "                continue\n",
        "            if maps[my][mx]==1 and visited[my][mx]==0:\n",
        "                visited[my][mx]=visited[qy][qx]+1\n",
        "                que.append([my,mx])\n",
        "            if my==n-1 and mx==m-1:\n",
        "                return visited[n-1][m-1]\n",
        "    return -1\n",
        "def solution(maps):\n",
        "    return bfs(0,0,maps)"
      ]
    }
  ]
}