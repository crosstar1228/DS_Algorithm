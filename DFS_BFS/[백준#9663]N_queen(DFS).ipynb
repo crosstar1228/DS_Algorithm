{
  "nbformat": 4,
  "nbformat_minor": 0,
  "metadata": {
    "colab": {
      "name": "[DFS]N_queen.ipynb",
      "provenance": []
    },
    "kernelspec": {
      "name": "python3",
      "display_name": "Python 3"
    },
    "language_info": {
      "name": "python"
    }
  },
  "cells": [
    {
      "cell_type": "markdown",
      "source": [
        "## Backtracking의 대표적인 문제.\n",
        "![](https://imagedelivery.net/v7-TZByhOiJbNM9RaUdzSA/f74e7d5f-2ad9-4156-cecf-f1c3752e3b00/public)\n",
        "\n",
        "\n",
        "[문제 풀기](https://www.acmicpc.net/problem/9663)"
      ],
      "metadata": {
        "id": "qKY9W6V42t-2"
      }
    },
    {
      "cell_type": "code",
      "execution_count": 7,
      "metadata": {
        "id": "X_9r09XKmL0k",
        "colab": {
          "base_uri": "https://localhost:8080/"
        },
        "outputId": "95578a2a-2692-4a12-f237-a981be6acb7f"
      },
      "outputs": [
        {
          "output_type": "stream",
          "name": "stdout",
          "text": [
            "8\n",
            "92\n"
          ]
        }
      ],
      "source": [
        "N  = int(input())\n",
        "\n",
        "ans = 0\n",
        "col = [0] * N\n",
        "\n",
        "def check(x):\n",
        "  for i in range(x):\n",
        "    if col[x]==col[i] or (x-i ==abs(col[x]-col[i])) : # 이전까지 중 하나라도 under attack 이면\n",
        "      return False\n",
        "  return True\n",
        "\n",
        "def backtrack(x):\n",
        "  global ans\n",
        "  if x==N:\n",
        "    ans+=1\n",
        "    return \n",
        "  else:\n",
        "    for i in range(N): # 0-n-1 까지 각각의 node 별 탐색\n",
        "      col[x]=i # x는 인풋, i 는 itertating\n",
        "\n",
        "      if check(x): # checking 시 under attack 상태가 아니라면\n",
        "        backtrack(x+1) # 다음 자식 노드로 넘어감\n",
        "\n",
        "backtrack(0)\n",
        "print(ans)"
      ]
    }
  ]
}