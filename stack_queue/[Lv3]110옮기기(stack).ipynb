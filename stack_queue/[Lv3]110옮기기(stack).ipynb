{
  "nbformat": 4,
  "nbformat_minor": 0,
  "metadata": {
    "colab": {
      "name": "[Lv3]110옮기기(stack).ipynb",
      "provenance": [],
      "collapsed_sections": []
    },
    "kernelspec": {
      "name": "python3",
      "display_name": "Python 3"
    },
    "language_info": {
      "name": "python"
    }
  },
  "cells": [
    {
      "cell_type": "markdown",
      "source": [
        "[문제 풀기](https://programmers.co.kr/learn/courses/30/lessons/77886)\n",
        "\n",
        "## 핵심 point😁\n",
        "- 단어 배열 순이라면, '110'보다 앞서는 건 '111'밖에 없음. 그것과 맞바꾸기만 하면 됨.\n",
        "- 다만, 마지막 끝단의 '11' 이나 '1' 하나도 맞바꾸는 것이 사전순 배열에 더 이로움. 그렇게 때문에 이것들을 '111'과 같게 취급할 수 있도록 조작이 필요함. \n",
        "\n",
        "- 결과적으로. '110' 만 따로 빼고 나서 for loop를 돌며 조사하면서 대소비교를 하고, '111'이 발견되면 loop를 멈추고 그곳에 삽입. \n"
      ],
      "metadata": {
        "id": "kvc0h90tUF0t"
      }
    },
    {
      "cell_type": "code",
      "source": [
        "def f(s) : \n",
        "    p = list('110')\n",
        "    size_s = len(s)\n",
        "\n",
        "    # 110 제거하기\n",
        "    count = 0\n",
        "    stack = list()\n",
        "    for i in range(size_s) : \n",
        "        stack.append(s[i])\n",
        "        if stack[-3:] == p : \n",
        "            stack.pop()\n",
        "            stack.pop()\n",
        "            stack.pop()\n",
        "\n",
        "    size_stack = len(stack)\n",
        "    count = int((size_s-size_stack)/3)\n",
        "\n",
        "    # 110 붙이기\n",
        "    for i in range(size_stack+1) : \n",
        "        temp = (stack[i:i+3]*3)[:3]\n",
        "        if temp>p : break\n",
        "\n",
        "    new_s = stack[:i] + p*count + stack[i:]    \n",
        "    return ''.join(new_s)\n",
        "\n",
        "def solution(arr):\n",
        "    answer = [f(s) for s in arr]        \n",
        "    return answer"
      ],
      "metadata": {
        "id": "BZhLDKUmVVL8"
      },
      "execution_count": 10,
      "outputs": []
    },
    {
      "cell_type": "code",
      "source": [
        "solution([\"1110\",\"100111100\",\"0111111010\"])"
      ],
      "metadata": {
        "colab": {
          "base_uri": "https://localhost:8080/"
        },
        "id": "aZRVk1RtVbFT",
        "outputId": "e6ad24a6-8482-48b6-c1a5-128299073f0a"
      },
      "execution_count": 11,
      "outputs": [
        {
          "output_type": "execute_result",
          "data": {
            "text/plain": [
              "['1101', '100110110', '0110110111']"
            ]
          },
          "metadata": {},
          "execution_count": 11
        }
      ]
    },
    {
      "cell_type": "markdown",
      "source": [
        "> ### 🤡새로 알게된 것 \n",
        "1. list slicing은 out of range로 해도 상관없다.\n",
        "2. for loop 안의 변수를 loop가 끝나고도 활용할 수 있다. 특히 break를 이용하면서도."
      ],
      "metadata": {
        "id": "fdoae4qaVrSE"
      }
    },
    {
      "cell_type": "code",
      "execution_count": 12,
      "metadata": {
        "colab": {
          "base_uri": "https://localhost:8080/"
        },
        "id": "9xqcpJ88Oj2u",
        "outputId": "642deb1c-2ff0-4334-b143-f9e3c356c4f4"
      },
      "outputs": [
        {
          "output_type": "execute_result",
          "data": {
            "text/plain": [
              "['1']"
            ]
          },
          "metadata": {},
          "execution_count": 12
        }
      ],
      "source": [
        "lis=['1']\n",
        "lis[:100]"
      ]
    },
    {
      "cell_type": "code",
      "source": [
        "for i in range(10):\n",
        "  # if i==5: break\n",
        "  pass\n",
        "print(i)"
      ],
      "metadata": {
        "colab": {
          "base_uri": "https://localhost:8080/"
        },
        "id": "P5fpUIOkOotC",
        "outputId": "3b2098c3-c11e-4396-ef98-0656d2ca5341"
      },
      "execution_count": 7,
      "outputs": [
        {
          "output_type": "stream",
          "name": "stdout",
          "text": [
            "9\n"
          ]
        }
      ]
    },
    {
      "cell_type": "code",
      "source": [
        "lis = ['110','111','011']\n",
        "sorted(lis)"
      ],
      "metadata": {
        "colab": {
          "base_uri": "https://localhost:8080/"
        },
        "id": "ekvh6lLgSbcU",
        "outputId": "11075520-9e68-430e-b3dd-89d3fb0e1c78"
      },
      "execution_count": 9,
      "outputs": [
        {
          "output_type": "execute_result",
          "data": {
            "text/plain": [
              "['011', '110', '111']"
            ]
          },
          "metadata": {},
          "execution_count": 9
        }
      ]
    },
    {
      "cell_type": "code",
      "source": [
        ""
      ],
      "metadata": {
        "id": "Ga9hqqbcS-ST"
      },
      "execution_count": null,
      "outputs": []
    }
  ]
}