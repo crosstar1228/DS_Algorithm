{
  "nbformat": 4,
  "nbformat_minor": 0,
  "metadata": {
    "colab": {
      "name": "list묶기(queue).ipynb",
      "provenance": []
    },
    "kernelspec": {
      "name": "python3",
      "display_name": "Python 3"
    },
    "language_info": {
      "name": "python"
    }
  },
  "cells": [
    {
      "cell_type": "markdown",
      "source": [
        "\n",
        "## list 묶기 문제\n",
        "\n",
        "- nested list 형태에서 max_group만큼 묶어서 list로(flatten) 반환하되, 묶은 list가 max_len를 초과할경우 초과하지 않을 때 까지 group을 줄여서 묶음.\n",
        "- 묶인 list는 다시 활용되지 않음. 다음으로 넘어감. \n",
        "\n",
        "\n",
        "## ideation\n",
        "- que 자료구조 활용"
      ],
      "metadata": {
        "id": "vj1Q9dnBvz1X"
      }
    },
    {
      "cell_type": "code",
      "execution_count": 17,
      "metadata": {
        "colab": {
          "base_uri": "https://localhost:8080/"
        },
        "id": "Zb7GvxEPXZRB",
        "outputId": "5eb138e9-dcff-46f1-aac5-7213f58ea903"
      },
      "outputs": [
        {
          "output_type": "execute_result",
          "data": {
            "text/plain": [
              "[[1, 2, 1, 3], [3, 4, 5], [4, 5, 6, 6]]"
            ]
          },
          "metadata": {},
          "execution_count": 17
        }
      ],
      "source": [
        "lis = [[1,2], [1,3],[3,4,5], [4,5,6,6]]\n",
        "\n",
        "max_len=4\n",
        "max_group = 2\n",
        "def flatten(nest, groups):\n",
        "  return sum(nest[:groups], [])\n",
        "def pop_n(que,n):\n",
        "  for i in range(n):\n",
        "    if que:\n",
        "      que.popleft()\n",
        "\n",
        "from collections import deque\n",
        "def list_grouping(nested_list, max_len, max_group ):\n",
        "  result = []\n",
        "  que = deque(maxlen=max_group)\n",
        "  for li in nested_list:\n",
        "    que.append(li)\n",
        "    # 길이가 안차면 패스\n",
        "    if len(que)<max_group:\n",
        "      continue;  \n",
        "    sample = flatten(list(que), max_group)\n",
        "    # 길이가 길다면 group 줄이기\n",
        "    if len(sample)>max_len:\n",
        "      groups = max_group\n",
        "      while len(flatten(list(que), groups))> max_len:\n",
        "        groups-=1\n",
        "      sample = flatten(list(que), groups)\n",
        "      pop_n(que,groups)\n",
        "    #길이가 문제 없다면\n",
        "    else : \n",
        "      pop_n(que,max_group)\n",
        "\n",
        "    result.append(sample)\n",
        "  # 남은 것들을 append(flatten하여)\n",
        "  if que:\n",
        "    residue = flatten(list(que),len(que))\n",
        "    result.append(residue)\n",
        "\n",
        "  # 남은것들을 하나하나 append 하는 방법\n",
        "  # while que: \n",
        "  #   result.append(que.popleft())\n",
        "  return result\n",
        "\n",
        "\n",
        "list_grouping(lis, max_len, max_group)"
      ]
    }
  ]
}