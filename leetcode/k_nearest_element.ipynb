{
  "nbformat": 4,
  "nbformat_minor": 0,
  "metadata": {
    "colab": {
      "provenance": [],
      "authorship_tag": "ABX9TyMBRggKgrlpZMPXyqaT0g6P",
      "include_colab_link": true
    },
    "kernelspec": {
      "name": "python3",
      "display_name": "Python 3"
    },
    "language_info": {
      "name": "python"
    }
  },
  "cells": [
    {
      "cell_type": "markdown",
      "metadata": {
        "id": "view-in-github",
        "colab_type": "text"
      },
      "source": [
        "<a href=\"https://colab.research.google.com/github/crosstar1228/DS_Algorithm/blob/main/leetcode/k_nearest_element.ipynb\" target=\"_parent\"><img src=\"https://colab.research.google.com/assets/colab-badge.svg\" alt=\"Open In Colab\"/></a>"
      ]
    },
    {
      "cell_type": "markdown",
      "source": [
        "[array 에서 K개의 가까운 element를 반환하는 문제.](https://leetcode.com/problems/find-k-closest-elements/description/\n",
        ")\n",
        "\n",
        "## Point\n",
        "- 배열 순서에 따라 `(차이, 원래값)`으로 변환할수 있는가\n",
        "- heap VS binary search"
      ],
      "metadata": {
        "id": "q4kdC5grXG1M"
      }
    },
    {
      "cell_type": "code",
      "execution_count": null,
      "metadata": {
        "id": "7CyotmwJXCmb"
      },
      "outputs": [],
      "source": [
        "\"\"\"\n",
        "658. Find K Closest Elements\n",
        "https://leetcode.com/problems/find-k-closest-elements/description/\n",
        "\n",
        "Given a sorted integer array arr, two integers k and x, return the k closest integers to x in the array. The result should also be sorted in ascending order.\n",
        "\n",
        "An integer a is closer to x than an integer b if:\n",
        "\n",
        "|a - x| < |b - x|, or\n",
        "|a - x| == |b - x| and a < b\n",
        "\"\"\"\n",
        "import heapq as hq\n",
        "arr = [1,2,3,4,5]\n",
        "k = 4\n",
        "x = 3\n",
        "\n",
        "\n",
        "#Solution: Use a heap to store the elements in the array and sort them by their distance from x\n",
        "def findClosestElements(arr, k, x):\n",
        "    heap = []\n",
        "    for i in arr:\n",
        "        hq.heappush(heap, (abs(i - x), i))\n",
        "    print(heap)\n",
        "    return sorted([hq.heappop(heap)[1] for _ in range(k)])\n",
        "\n",
        "result = findClosestElements(arr, k, x)\n",
        "\n",
        "print(result)"
      ]
    },
    {
      "cell_type": "markdown",
      "source": [
        "Binary Search 방법\n",
        "- 이미 **정렬**되어있고, **반환값**도 정렬이 요구된다.\n",
        "- 치우침을 mid를 기준으로 조정해나가는 것이 핵심.\n",
        "\n"
      ],
      "metadata": {
        "id": "-BVPn-O_tfpR"
      }
    },
    {
      "cell_type": "code",
      "source": [
        "class Solution:\n",
        "    def findClosestElements(cls, arr: list[int], k: int, x: int) -> list[int]:\n",
        "        start, end = 0 , len(arr) - k\n",
        "        while start<end:\n",
        "            mid = (start+ end)//2\n",
        "            print(start)\n",
        "            print(mid)\n",
        "            print(end)\n",
        "            if x - arr[mid] > arr[mid + k] - x:\n",
        "                start = mid + 1\n",
        "            else:\n",
        "                end = mid\n",
        "        print(start, end)\n",
        "        return arr[start:start+k]\n",
        "\n",
        "arr = [1, 2, 3, 4, 5]\n",
        "k = 3\n",
        "x = 3\n",
        "\n",
        "Solution.findClosestElements(Solution, arr, k, x)"
      ],
      "metadata": {
        "colab": {
          "base_uri": "https://localhost:8080/"
        },
        "id": "izMGfEtSteiA",
        "outputId": "6b85b110-c2cc-4c73-dbb9-6f090b965a17"
      },
      "execution_count": 9,
      "outputs": [
        {
          "output_type": "stream",
          "name": "stdout",
          "text": [
            "0\n",
            "1\n",
            "2\n",
            "0\n",
            "0\n",
            "1\n",
            "1 1\n"
          ]
        },
        {
          "output_type": "execute_result",
          "data": {
            "text/plain": [
              "[2, 3, 4]"
            ]
          },
          "metadata": {},
          "execution_count": 9
        }
      ]
    },
    {
      "cell_type": "code",
      "source": [],
      "metadata": {
        "id": "8Rmsiz0TUmwu"
      },
      "execution_count": null,
      "outputs": []
    }
  ]
}