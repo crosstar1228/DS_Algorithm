{
  "cells": [
    {
      "cell_type": "markdown",
      "metadata": {
        "id": "jQS_UkmxeGhR"
      },
      "source": [
        "> sorting 알고리즘 중 가장 쉬운 bubblesort, insertionsort, selectionsort에 대해 알아봅시다."
      ]
    },
    {
      "cell_type": "code",
      "execution_count": 8,
      "metadata": {
        "colab": {
          "base_uri": "https://localhost:8080/"
        },
        "id": "6AFtSIcfFHSG",
        "outputId": "a829d860-a65d-464d-f1d6-71121a730406"
      },
      "outputs": [
        {
          "data": {
            "text/plain": [
              "[3, 5, 6, 7, 9]"
            ]
          },
          "execution_count": 8,
          "metadata": {},
          "output_type": "execute_result"
        }
      ],
      "source": [
        "lis = [9,6,7,3,5]\n",
        "sorted_lis = sorted(lis)\n",
        "sorted_lis"
      ]
    },
    {
      "cell_type": "markdown",
      "metadata": {
        "id": "hApbhfcxHZg7"
      },
      "source": [
        "## 1. Bubblesort\n",
        "\n",
        "- 자주 이용되지는 않음\n",
        "- 이해하기 쉬움\n",
        "- n, n+1 번째 index를 각각 비교하면서 설정\n",
        "\n",
        "### 1st cycle\n",
        "![](https://images.velog.io/images/crosstar1228/post/d2e974d4-14db-4387-872d-803fa962ab02/image.png)\n",
        "[https://dev.to/buurzx/buble-sort-4jkc]\n",
        "### 해당 cycle 반복\n",
        "- cycle 반복때마다 맨 뒤 값은 하나씩 정렬 완료됨\n",
        "\n",
        "- 최악의 경우 모든 item을 swap 해야함!\n",
        "- 시간복잡도 : $$O(n^2)$$"
      ]
    },
    {
      "cell_type": "code",
      "execution_count": 12,
      "metadata": {
        "colab": {
          "base_uri": "https://localhost:8080/"
        },
        "id": "EuwAqGqVG-RV",
        "outputId": "17d65963-082f-457a-db1f-f64b3ef7adfa"
      },
      "outputs": [
        {
          "name": "stdout",
          "output_type": "stream",
          "text": [
            "[6, 7, 3, 5, 9]\n",
            "[6, 3, 5, 7, 9]\n",
            "[3, 5, 6, 7, 9]\n",
            "[3, 5, 6, 7, 9]\n",
            "True\n"
          ]
        }
      ],
      "source": [
        "lis = [9,6,7,3,5]\n",
        "for m in range(len(lis)-1 , 0, -1):\n",
        "  for n in range(m):\n",
        "\n",
        "    if lis[n]>lis[n+1]:\n",
        "      temp=lis[n]\n",
        "      lis[n]=lis[n+1]\n",
        "      lis[n+1]=temp\n",
        "      # lis[n],lis[n+1] = lis[n+1],lis[n] #pythonic 한 코드\n",
        "  print(lis)\n",
        "# print(lis)\n",
        "print(sorted_lis==lis)"
      ]
    },
    {
      "cell_type": "markdown",
      "metadata": {
        "id": "6Gp58mx1Si82"
      },
      "source": [
        "### 추가 최적화\n",
        "- 앞뒤 자리 비교가 있었던 index를 기억해두면 다음 패스에서는 그 자리 전까지만 정렬해도 됨\n",
        "- 다시말해 바뀐 지점까지는 다시 연산을 안하도록 세팅"
      ]
    },
    {
      "cell_type": "code",
      "execution_count": 13,
      "metadata": {
        "id": "n9p-VOHuSiBu"
      },
      "outputs": [],
      "source": [
        "def bubble_sort(arr):\n",
        "  end = len(arr)-1\n",
        "  while end>0 :\n",
        "    last_swap = 0\n",
        "    for n in range(end):\n",
        "      if arr[n]> arr[n+1]:\n",
        "        temp = arr[n]\n",
        "        arr[n] = arr[n+1]\n",
        "        arr[n+1] = temp\n",
        "        last_swap = n\n",
        "      end = last_swap\n"
      ]
    },
    {
      "cell_type": "markdown",
      "metadata": {
        "id": "_B88SqtOVex9"
      },
      "source": [
        "## 2.selection sort\n",
        "\n",
        "\n",
        "\n",
        "![](https://images.velog.io/images/crosstar1228/post/a6ee9f6f-b555-42ed-899c-027fd49ec7bd/image.png)\n",
        "\n",
        "- 최솟값 index 정보 저장 후 맨 앞 index와 swap\n",
        "- swap 완료된 값은 제외하고 다른 값들로 순차적으로 진행\n",
        "- 매 cycle마다 1번의 swap만 하면 됨\n",
        "\n",
        "- 시간복잡도: $$O(n^2)$$"
      ]
    },
    {
      "cell_type": "code",
      "execution_count": 21,
      "metadata": {
        "colab": {
          "base_uri": "https://localhost:8080/"
        },
        "id": "lJAgxhJ2YIMG",
        "outputId": "db6228a4-0a42-4070-bfc7-827ab37b9188"
      },
      "outputs": [
        {
          "name": "stdout",
          "output_type": "stream",
          "text": [
            "[3, 6, 7, 9, 5]\n",
            "[3, 5, 7, 9, 6]\n",
            "[3, 5, 6, 9, 7]\n",
            "[3, 5, 6, 7, 9]\n",
            "True\n"
          ]
        }
      ],
      "source": [
        "lis = [9,6,7,3,5]\n",
        "for i in range(len(lis)-1):\n",
        "  min_idx = i\n",
        "  for j in range(i+1,len(lis)):\n",
        "    if lis[j]<lis[min_idx]:\n",
        "      min_idx = j\n",
        "  lis[i],lis[min_idx] = lis[min_idx], lis[i]\n",
        "  print(lis)\n",
        "print(lis==sorted_lis)"
      ]
    },
    {
      "cell_type": "markdown",
      "metadata": {
        "id": "wanJj1nJRv1H"
      },
      "source": [
        "## 3. insertion sort\n",
        "![](https://images.velog.io/images/crosstar1228/post/12eb3a6a-fbeb-422d-ac8c-7918d8b40c8d/image.png)\n",
        "\n",
        "- index 0 은 원래 정렬되어 있다고 가정\n",
        "- index 1 부터 왼쪽에 더 큰수가 있는지를 확인\n",
        "- 클경우 swap\n",
        "- index 2, 3로 진행하면서 왼쪽에 더 큰수가 있을 경우 index 0 까지 swappng 가능\n",
        "- 시간복잡도 : \n",
        "\n",
        "- best : $$O(n)$$ \n",
        "- worst :  $$O(n^2)$$ \n"
      ]
    },
    {
      "cell_type": "code",
      "execution_count": 15,
      "metadata": {
        "colab": {
          "base_uri": "https://localhost:8080/"
        },
        "id": "78boeLGcKB1N",
        "outputId": "4f5e4839-fcdf-47c9-b0ac-b52aa15d2427"
      },
      "outputs": [
        {
          "name": "stdout",
          "output_type": "stream",
          "text": [
            "[6, 9, 7, 3, 5]\n",
            "[6, 7, 9, 3, 5]\n",
            "[6, 7, 9, 3, 5]\n",
            "[6, 7, 3, 9, 5]\n",
            "[6, 3, 7, 9, 5]\n",
            "[3, 6, 7, 9, 5]\n",
            "[3, 6, 7, 5, 9]\n",
            "[3, 6, 5, 7, 9]\n",
            "[3, 5, 6, 7, 9]\n",
            "[3, 5, 6, 7, 9]\n",
            "True\n"
          ]
        }
      ],
      "source": [
        "lis = [9,6,7,3,5]\n",
        "for end in range(1,len(lis)):\n",
        "  for i in range(end,0,-1):\n",
        "    if lis[i-1]>lis[i]:\n",
        "      lis[i-1], lis[i] = lis[i], lis[i-1]\n",
        "    print(lis)\n",
        "print(sorted_lis==lis)\n",
        "  "
      ]
    },
    {
      "cell_type": "markdown",
      "metadata": {
        "id": "1UQN73DxXgPg"
      },
      "source": [
        "## Reference\n",
        "- https://algopoolja.tistory.com/19\n",
        "- https://gmlwjd9405.github.io/2018/05/06/algorithm-bubble-sort.html\n",
        "- https://dev.to/buurzx/buble-sort-4jkc"
      ]
    },
    {
      "cell_type": "code",
      "execution_count": null,
      "metadata": {
        "id": "jZfSkMu-eELW"
      },
      "outputs": [],
      "source": []
    }
  ],
  "metadata": {
    "colab": {
      "name": "[DS]sort1(bubble, insertion,selection).ipynb",
      "provenance": []
    },
    "kernelspec": {
      "display_name": "Python 3",
      "name": "python3"
    },
    "language_info": {
      "name": "python"
    }
  },
  "nbformat": 4,
  "nbformat_minor": 0
}
