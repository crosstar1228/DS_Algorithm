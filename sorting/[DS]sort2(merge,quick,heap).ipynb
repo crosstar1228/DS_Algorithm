{
  "nbformat": 4,
  "nbformat_minor": 0,
  "metadata": {
    "colab": {
      "name": "[DS]sort2(merge,quick,heap).ipynb",
      "provenance": [],
      "collapsed_sections": []
    },
    "kernelspec": {
      "name": "python3",
      "display_name": "Python 3"
    },
    "language_info": {
      "name": "python"
    }
  },
  "cells": [
    {
      "cell_type": "markdown",
      "source": [
        "[기본 정렬 알고리즘 정리한 코드 보기 - sort1(bubble,selection,insertion) github](https://github.com/crosstar1228/DS_Algorithm/blob/main/sorting/%5BDS%5Dsort1(bubble%2C_insertion%2Cselection).ipynb)\n",
        "\n",
        "[블로그 정리 포스트 보기](https://velog.io/write?id=9ddb4cef-2c2f-4eae-98dc-91b27386f80c)\n",
        "> ## 😆복기 \n",
        "저번 시간에는 시간복잡도가 최대 $$O(n^2)$$ 인 기본 정렬 알고리즘을 알아보았습니다. 조금 더 발전된 효율적인 sorting 알고리즘을 알아봅시다."
      ],
      "metadata": {
        "id": "ZTIbT_RXVPm3"
      }
    },
    {
      "cell_type": "markdown",
      "source": [
        "## 📌Mergesort\n",
        "\n",
        "![](https://images.velog.io/images/crosstar1228/post/cd7cdc78-b67a-4c76-a60a-1d306e9e7f24/image.png)\n",
        "[https://commons.wikimedia.org/wiki/File:Merge_sort_algorithm_diagram.svg]\n",
        "\n",
        "- 정렬되지 않은 전체 데이터를 **하나의 단위로 분할(Divide)**한 후에 분할한 데이터들을 **다시 병합(Merge)하며 정렬**하는 방식\n",
        "1. Data가 1개가 될때까지 재귀적으로 divide\n",
        "2. 낱개로 나뉘어진 data를 merge 하며 정렬\n",
        "3. 최종 output은 정렬된 형태가 됨\n",
        "\n",
        "### Time Complexity\n",
        "$$O(n*logn)\n",
        "$$\n",
        "- insertion sort보다 효율적"
      ],
      "metadata": {
        "id": "N4xHU7x4VIAo"
      }
    },
    {
      "cell_type": "code",
      "execution_count": 6,
      "metadata": {
        "id": "0Z-LMoe7UYEG"
      },
      "outputs": [],
      "source": [
        "\n",
        "\n",
        "def merge(arr1,arr2):\n",
        "  i=0\n",
        "  j=0\n",
        "  sorted_list = [] # 정렬할 리스트\n",
        "\n",
        "  while (i<len(arr1)) & (j<len(arr2)):\n",
        "    if arr1[i] < arr2[j]:\n",
        "      sorted_list.append(arr1[i])\n",
        "      i+=1\n",
        "    else :\n",
        "      sorted_list.append(arr2[j])\n",
        "      j+=1\n",
        " # i, j가 len만큼 안갔으면 \n",
        "  while (i<len(arr1)):\n",
        "    sorted_list.append(arr1[i])\n",
        "    i+=1\n",
        "  \n",
        "  while(j<len(arr2)):\n",
        "    sorted_list.append(arr2[j])\n",
        "    j+=1\n",
        "\n",
        "  return sorted_list\n",
        "\n",
        "\n",
        "\n",
        "\n",
        "def merge_sort(array):\n",
        "  if len(array)<=1:\n",
        "    print('정렬 필요 없습니다~')\n",
        "    return array\n",
        "  # 반으로 쪼개기 \n",
        "  mid = len(array)//2\n",
        "  left = array[:mid]\n",
        "  right = array[mid:]\n",
        "\n",
        "  # 반으로 쪼갠걸 재귀적으로 반으로 쪼개기\n",
        "  left1 = merge_sort(left) # 왼쪽거 쪼개기 \n",
        "  right1 = merge_sort(right) #오른쪽거 쪼개기\n",
        "\n",
        "  return merge(left1, right1)\n",
        "\n"
      ]
    },
    {
      "cell_type": "code",
      "source": [
        "arr = [x for x in range(8,0,-1)]\n",
        "print(arr)\n",
        "merge_sort(arr)"
      ],
      "metadata": {
        "colab": {
          "base_uri": "https://localhost:8080/"
        },
        "id": "IakfxjHHeiKY",
        "outputId": "da73a0c6-6d19-4e99-d2fb-13a2458edb41"
      },
      "execution_count": 7,
      "outputs": [
        {
          "output_type": "stream",
          "name": "stdout",
          "text": [
            "[8, 7, 6, 5, 4, 3, 2, 1]\n",
            "정렬 필요 없습니다~\n",
            "정렬 필요 없습니다~\n",
            "정렬 필요 없습니다~\n",
            "정렬 필요 없습니다~\n",
            "정렬 필요 없습니다~\n",
            "정렬 필요 없습니다~\n",
            "정렬 필요 없습니다~\n",
            "정렬 필요 없습니다~\n"
          ]
        },
        {
          "output_type": "execute_result",
          "data": {
            "text/plain": [
              "[1, 2, 3, 4, 5, 6, 7, 8]"
            ]
          },
          "metadata": {},
          "execution_count": 7
        }
      ]
    },
    {
      "cell_type": "markdown",
      "source": [
        "## 📌Quicksort\n",
        "### 분할 정복(divide and conquer) 방법\n",
        "![](https://images.velog.io/images/crosstar1228/post/ac71ad9a-3fa1-47c0-a7c8-d852da0b3ff9/image.png)\n",
        "![](https://images.velog.io/images/crosstar1228/post/51be848d-c1e9-4552-b48e-cb97fb4338ea/image.png)\n",
        "- 리스트 가운데서 **하나의 원소**를 임의로 고릅니다. 이를** pivot**이라고 합니다.\n",
        "- 피벗 **앞에는 피벗보다 값이 작은 모든 원소**들이 위치하도록 하고, 피벗 뒤에는 **피벗보다 값이 큰 모든 원소**들이 위치하도록 swap 하는 것이 알고리즘의 핵심입니다.\n",
        "### partitioning\n",
        "\n",
        "- startpoint 와 endpoint를 양쪽에 위치하고, 각각 가운데 쪽으로 iterate\n",
        "![](https://images.velog.io/images/crosstar1228/post/4cf3520e-f690-4d29-a109-95790e107d01/image.png)\n",
        "[pivot = 5, startpoint와 endpoint가 가리키는 값을 swap함]\n",
        "\t- pivot값 기준으로 **starpoint가 가리키는 값이 pivot값보다 작을 경우** : startpoint를 다음 index로 옮기고 반복\n",
        "\t- pivot값 기준으로 **starpoint가 가리키는 값이 pivot값보다 클 경우** : **startpoint 보류**하고 **endpoint가 가리키는 값과 pivot값 비교**하여\n",
        "    - pivot값보다 작을 경우 : **starpoint값과 endpoint값 swap!**\n",
        "    - pivot값보다 클 경우 : endpoint를 다음으로 옮김\n",
        "\n",
        "### 위 과정을 start와 end가 만날 때까지 반복!"
      ],
      "metadata": {
        "id": "1KIGxxJZRZcj"
      }
    },
    {
      "cell_type": "markdown",
      "source": [
        "### a. 아래는 list의 첫번째 원소를 잡고, 기본 개념으로 작성한 코드입니다. 하지만 별도의 공간이 필요합니다.\n",
        "\n"
      ],
      "metadata": {
        "id": "pHxHB2-zR_Uj"
      }
    },
    {
      "cell_type": "code",
      "source": [
        "def quick_sort(list):\n",
        "  if len(list) <=1:\n",
        "    return list\n",
        "  else:\n",
        "    pivot = list[0]\n",
        "    leftlist = [elem for elem in list[1:] if elem <= pivot]\n",
        "    rightlist = [elem for elem in list[1:] if elem > pivot]\n",
        "    return quick_sort(leftlist) + pivot + quick_sort(rightlist)"
      ],
      "metadata": {
        "id": "fFYsZuBCe-MI"
      },
      "execution_count": null,
      "outputs": []
    },
    {
      "cell_type": "markdown",
      "source": [
        "### b. 위의 partition 과정을 구현한 코드와 함께 진행한 코드"
      ],
      "metadata": {
        "id": "FtP-tN4xhegH"
      }
    },
    {
      "cell_type": "code",
      "source": [
        "def partition(alist, first, last):\n",
        "  pivotvalue = alist[first]\n",
        "  leftmark = first + 1\n",
        "  rightmark = last\n",
        "\n",
        "  done = False\n",
        "  while not done:\n",
        "    while leftmark <= rightmark and alist[leftmark] <= pivotvalue: # 왼쪽에 작은수가 있고, 그 수가 pivot value보다 작다\n",
        "      leftmark +=1\n",
        "    while rightmark>= leftmark and alist[rightmark]>= pivotvalue: # 오른쪽에 큰수가 있고, 그 수가 pivot value보다 크다\n",
        "      rightmark -=1\n",
        "    if rightmark<leftmark: # mark가 겹치면 종료\n",
        "      done = True\n",
        "    else:\n",
        "     alist[leftmark], alist[rightmark]  = alist[rightmark], alist[leftmark] #swap\n",
        "\n",
        "  alist[first], alist[rightmark] = alist[rightmark], alist[first] #마지막 pivot value 와 swap\n",
        "\n",
        "  return rightmark\n",
        "\n",
        "\n",
        "def quicksort(alist):\n",
        "  quickSortHelper(alist, 0, len(alist)-1)\n",
        "  return alist\n",
        "  \n",
        "def quickSortHelper(alist, first, last):\n",
        "  if first < last:\n",
        "    splitpoint  = partition(alist, first, last) # pivot 기준으로 left, right 분리\n",
        "\n",
        "    quickSortHelper(alist, first, splitpoint-1)\n",
        "    quickSortHelper(alist, splitpoint+1, last)\n",
        "\n",
        "quicksort([7,5,4,8,1,6,2])"
      ],
      "metadata": {
        "colab": {
          "base_uri": "https://localhost:8080/"
        },
        "id": "xMBWac2kgC4I",
        "outputId": "fea5d50b-c92b-4d3a-9352-9502ecfebe02"
      },
      "execution_count": 6,
      "outputs": [
        {
          "output_type": "execute_result",
          "data": {
            "text/plain": [
              "[1, 2, 4, 5, 6, 7, 8]"
            ]
          },
          "metadata": {},
          "execution_count": 6
        }
      ]
    },
    {
      "cell_type": "markdown",
      "source": [
        "## 📌Heap Sort\n",
        "> Heap 기본 자료구조에 대한 개념은 [[자료구조]heap 익히기](https://velog.io/@crosstar1228/%EC%9E%90%EB%A3%8C%EA%B5%AC%EC%A1%B0heap-%EC%9D%B5%ED%9E%88%EA%B8%B0) 포스팅 참고.\n",
        "\n",
        "위 포스팅의 방법대로라면, 계산복잡도는 $$O(n*logn)$$이 됨. \n",
        "\n",
        "1. array 배열을 받아온 후 중간 지점을 선택한다.\n",
        "2. **중간 인덱스부터 제일 앞 인덱스까지 heapify** 하며 트리를 재구성한다. \n",
        "\n",
        "\n",
        "### a. heapify\n",
        "- 특정 노드를 중심으로 그 밑의 트리들이 힙 성질을 만족하게 만드는 연산\n",
        "- heap sort의 경우 중간 지점에서 시작 **(중간 node부터 자식이 존재하기 때문)**\n",
        "- 제일 앞 인덱스까지 차례로 heapify\n",
        "\n",
        "> ### 예시😎 (max heap 가정)\n",
        "```\n",
        "arr = [16, 4, 10, 14, 7, 9, 3, 2, 8, 1]\n",
        "```\n",
        "![](https://images.velog.io/images/crosstar1228/post/ce8035f9-539c-4985-9938-89b7ca53ecfc/image.png)\n",
        "[https://ratsgo.github.io/data%20structure&algorithm/2017/09/27/heapsort/]\n",
        "- 중간 node인 7(5번 노드)부터 시작\n",
        "\t1. 5번 노드 : heapify 변화 없음\n",
        "    2. 4번 노드 : heapify 변화 없음\n",
        "    3. 3번 노드 : heapify 변화 없음\n",
        "    4. 2번 노드 : 4와 14의 위치 변경(**최대힙 만족하도록 heapify**)\n",
        "    \t4-1. 4의 자식노드 마저 살피기 \n",
        "        **8보다 4가 작음 : heapify**\n",
        "\n",
        "### b. sorting 하기\n",
        "1. root node(최댓값) 을 뽑아 마지막 node의 값과 바꿉니다. \n",
        "2. tree size가 하나 감소(최댓값이 맨 마지막으로 갔으니) 되고, 새로운 root node에 대해 heapify하여 maximum heap을 구성합니다. \n",
        "3. 1~2 반복하면 하나씩 정렬되면서 최종적으로 정렬된 array가 반환됩니다.\n",
        "\n",
        "### Time Complexity\n",
        "$$O(n*logn)$$"
      ],
      "metadata": {
        "id": "DzfWvsk90sXs"
      }
    },
    {
      "cell_type": "code",
      "source": [
        "# heapify \n",
        "def heapify(unsorted, index, heap_size):\n",
        "    largest = index\n",
        "    left_index = 2 * index + 1\n",
        "    right_index = 2 * index + 2\n",
        "    if left_index < heap_size and unsorted[left_index] > unsorted[largest]:\n",
        "        largest = left_index\n",
        "    if right_index < heap_size and unsorted[right_index] > unsorted[largest]:\n",
        "        largest = right_index\n",
        "    if largest != index:\n",
        "        unsorted[largest], unsorted[index] = unsorted[index], unsorted[largest]\n",
        "        heapify(unsorted, largest, heap_size)"
      ],
      "metadata": {
        "id": "b7NhnvUl1-hb"
      },
      "execution_count": 7,
      "outputs": []
    },
    {
      "cell_type": "code",
      "source": [
        "\n",
        "\n",
        "def heap_sort(arr):\n",
        "  n = len(arr)\n",
        "  ## 1단계 : heapify\n",
        "  for i in range(n//2-1, -1, -1): # 배열의 중간부터 올라감. 이진트리 성질에 따라 모든 요소를 한번씩 비교 가능!\n",
        "    heapify(arr, i, n) #heapify하기\n",
        "  \n",
        "  ## 2단계 : sorting\n",
        "  for i in range(n-1, 0, -1):\n",
        "    arr[0], arr[i] = arr[i], arr[0] # root와 맨 끝노드 swap\n",
        "    heapify(arr,0,i)\n",
        "  return arr\n",
        "\n",
        "\n"
      ],
      "metadata": {
        "id": "BKoV63TZkHVX"
      },
      "execution_count": 10,
      "outputs": []
    },
    {
      "cell_type": "code",
      "source": [
        "unsorted = [16, 14, 10, 8, 7, 9, 3, 2, 4, 1]\n",
        "heap_sort(unsorted)"
      ],
      "metadata": {
        "colab": {
          "base_uri": "https://localhost:8080/"
        },
        "id": "YopcPlK829wz",
        "outputId": "e65e315f-563e-4684-b63d-e01905e8f1fd"
      },
      "execution_count": 11,
      "outputs": [
        {
          "output_type": "execute_result",
          "data": {
            "text/plain": [
              "[1, 2, 3, 4, 7, 8, 9, 10, 14, 16]"
            ]
          },
          "metadata": {},
          "execution_count": 11
        }
      ]
    },
    {
      "cell_type": "markdown",
      "source": [
        "## Sorting Time Complexity 정리\n",
        "![](https://images.velog.io/images/crosstar1228/post/36adc17e-a851-41fa-94de-bfbf7f2842db/image.png)\n",
        "[https://d2.naver.com/helloworld/0315536]\n",
        "## Reference\n",
        "- https://ordo.tistory.com/87\n",
        "- https://ordo.tistory.com/90?category=758434\n",
        "- https://ordo.tistory.com/88?category=758434\n",
        "- https://github.com/ithingv/ComputerScience"
      ],
      "metadata": {
        "id": "iJrq5HCA3keC"
      }
    }
  ]
}