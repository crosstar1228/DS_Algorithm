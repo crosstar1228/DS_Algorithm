{
  "nbformat": 4,
  "nbformat_minor": 0,
  "metadata": {
    "colab": {
      "name": "[DS]sort3(radix,count,topological).ipynb",
      "provenance": []
    },
    "kernelspec": {
      "name": "python3",
      "display_name": "Python 3"
    },
    "language_info": {
      "name": "python"
    }
  },
  "cells": [
    {
      "cell_type": "markdown",
      "source": [
        "### 다른 정렬 알고리즘 보기\n",
        "[Sorting1 - bubble sort, selection sort, insertion sort](https://velog.io/@crosstar1228/%EC%9E%90%EB%A3%8C%EA%B5%AC%EC%A1%B0-Sorting1bubble-sort-selection-sort-insertion-sort)\n",
        "\n",
        "\n",
        "[sorting2 - mergesort, quicksort, heapsort](https://velog.io/@crosstar1228/DSsorting2-mergesort-quicksort-heapsort)\n",
        "\n",
        "> ## 마지막 시간!\n",
        "- sorting 마무리 시간입니다. 지금까지 배워온 정렬은 두 수의 대소를 비교하는 정렬이었습니다. 이와 달리 **시간복잡도를 O(n)까지 낮추는 non-comparison algorithm**인 **counting sort**(계수정렬), **radix sort**(기수정렬), 그리고 graph 이론을 결합한 **topological sort**(위상정렬) 로 sorting algorithm 공부를 마무리해 봅시다!"
      ],
      "metadata": {
        "id": "mHcVt23Ml8JH"
      }
    },
    {
      "cell_type": "markdown",
      "source": [
        "## counting sort\n",
        "\n",
        "\n",
        "1. input array의 각 **값들을 index**, 그 **개수를 value**로 하는 **counting array를 생성**합니다. \n",
        "\n",
        "![](https://images.velog.io/images/crosstar1228/post/d9b38630-27b6-4977-a26a-41008d887593/img.gif)\n",
        "\n",
        "2. counting array를 **cumulative 하게 update**합니다.\n",
        "![](https://images.velog.io/images/crosstar1228/post/1b29215e-3f54-4205-8c7a-cc728caf442e/%EB%8B%A4%EC%9A%B4%EB%A1%9C%EB%93%9C.png)\n",
        "\n",
        "3. output array를 각 **value의 위치에 알맞게 mapping**시킵니다. mapping 후에는 **값을 1씩 줄여가면서** 차례대로 sorting 하며 output array를 완성합니다.\n",
        "![](https://images.velog.io/images/crosstar1228/post/f104788c-1e62-47d4-a641-fe2c80aa05f9/img%20(1).gif)\n",
        "**굵은 텍스트**\n",
        "\n",
        "### Time Complexity\n",
        "$$\n",
        "O(n+max)\n",
        "$$\n",
        "\n",
        "- 데이터 개수가 n 일때\n",
        "\t- input array로부터 counting array 생성 : $$O(n)$$\n",
        "\t- counting array cumulative 하게 update : $$O(max)(array의 최댓값)$$\n",
        "    - output array 생성 : $$O(n)$$\n",
        "> **max값이 매우 클경우, counting array의 길이로 연결되어 메모리 공간을 차지하게 됩니다**. 따라서 array의 최댓값 크기에 따라 $$O(n)$$보다 커질수도, 그대로 해당될 수도 있습니다."
      ],
      "metadata": {
        "id": "Tgi8IhjZ2_zc"
      }
    },
    {
      "cell_type": "code",
      "execution_count": 8,
      "metadata": {
        "colab": {
          "base_uri": "https://localhost:8080/"
        },
        "id": "C8Eu_HbtcfB2",
        "outputId": "5abcd371-a796-431d-8391-8ac0f543a39b"
      },
      "outputs": [
        {
          "output_type": "execute_result",
          "data": {
            "text/plain": [
              "[0, 0, 0, 1, 1, 1, 2, 2, 3, 3, 4, 4, 4, 5, 5]"
            ]
          },
          "metadata": {},
          "execution_count": 8
        }
      ],
      "source": [
        "array = [2, 0, 1, 4, 5, 4, 3, 2, 0, 1, 1, 0, 5, 4, 3]\n",
        "\n",
        "def counting_sort(arr):\n",
        "  # counting array 생성\n",
        "  count_arr = [0]*(max(arr)+1)\n",
        "  # output array 생성\n",
        "  output_arr = [-1]*len(arr)\n",
        "  \n",
        "  # index별 counter\n",
        "  for num in arr:\n",
        "    count_arr[num]+=1\n",
        "  # return count_arr\n",
        "  # counting arr -> cumulative list로 변환\n",
        "  for i in range(len(count_arr)-1):\n",
        "    count_arr[i+1]+=count_arr[i]\n",
        "  \n",
        "  # 역순으로 array indexing 및 정렬\n",
        "  for i in range(len(arr)-1,-1,-1):\n",
        "    num = arr[i]\n",
        "    output_arr[count_arr[num]-1]=num\n",
        "    count_arr[num]-= 1\n",
        "\n",
        "  return output_arr\n",
        "\n",
        "counting_sort(array)"
      ]
    },
    {
      "cell_type": "markdown",
      "source": [
        "## 📌radix sort\n",
        "![](https://images.velog.io/images/crosstar1228/post/609e1f17-4352-4e61-9a8a-5f466dd2ad4b/image.png)\n",
        "[https://brilliant.org/wiki/radix-sort/]\n",
        "\n",
        "- **자리수 별로 counting sort** 하는 알고리즘이라고 생각하면 됨\n",
        "- 기수별로 비교 없이 정렬하는 알고리즘(with no comparison)\n",
        "- 가장 낮은 자리수부터 정렬하는 LSD, 가장 높은 자리수부터 비교하는 MSD가 있음\n",
        "- 부동소수점이 없는 int type의 정수만 정렬 가능\n",
        "- k값이 작을수록 더 빠르게 정렬 가능!\n",
        "\n",
        "\n",
        "\n",
        "\n",
        "### Time Complexity\n",
        "\n",
        "$$\n",
        "O(kn)\n",
        "$$\n",
        "- k는 가장 큰 데이터의 자릿수\n",
        "- counting sort를 k자리에 대하여 각각 looping"
      ],
      "metadata": {
        "id": "vljUotutRPAp"
      }
    },
    {
      "cell_type": "code",
      "source": [
        "class RadixSort:\n",
        "  def __init__(self,array):\n",
        "    self.array = array\n",
        "\n",
        "  def radix_sort(self):\n",
        "    max1 = max(self.array)\n",
        "    exp = 1\n",
        "    while max1/exp>0:\n",
        "      self.count_sort(self.array, exp)\n",
        "      exp*=10\n",
        "\n",
        "  def count_sort(self,arr,k): #k는 가장 큰 데이터의 자릿수\n",
        "    output_arr = [0] * len(arr)\n",
        "    count_arr= [0] * 10 # 각 자릿수별로 비교하기 때문에 0~9면 충분 \n",
        "\n",
        "    for num in arr:\n",
        "      idx = num//k  # 자릿수로 나눔\n",
        "      count_arr[idx%10] +=1\n",
        "\n",
        "    for i in range(len(count_arr)-1): # 8까지 감\n",
        "      count_arr[i+1] += count_arr[i]\n",
        "\n",
        "    for i in range(len(arr)-1,-1,-1):\n",
        "      _idx = (arr[i]//k)%10\n",
        "      output_arr[count_arr[_idx]-1]=arr[i]\n",
        "      count_arr[_idx]-= 1\n",
        "    \n",
        "    # 반복작업 위한 복사\n",
        "    for i in range(len(arr)):\n",
        "        arr[i] = output_arr[i]\n",
        "\n",
        "numbers = [ 170, 45, 75, 90, 802, 24, 2, 66] \n",
        "arr = RadixSort(numbers)\n",
        "\n",
        "print(arr.array)\n",
        "arr.radix_sort()\n",
        "arr.array"
      ],
      "metadata": {
        "colab": {
          "base_uri": "https://localhost:8080/"
        },
        "id": "NC2fYAWH3GOz",
        "outputId": "8c6b2ea7-df75-4eb5-b1cf-00896a9ae627"
      },
      "execution_count": 17,
      "outputs": [
        {
          "output_type": "stream",
          "name": "stdout",
          "text": [
            "[170, 45, 75, 90, 802, 24, 2, 66]\n"
          ]
        },
        {
          "output_type": "execute_result",
          "data": {
            "text/plain": [
              "[2, 24, 45, 66, 75, 90, 170, 802]"
            ]
          },
          "metadata": {},
          "execution_count": 17
        }
      ]
    },
    {
      "cell_type": "markdown",
      "source": [
        "## 📌topological sort\n",
        "> 그래프에 대해 공부가 필요한 분은 [Graph 자료구조 개념](https://velog.io/@crosstar1228/%EC%95%8C%EA%B3%A0%EB%A6%AC%EC%A6%98BFS%EC%99%80-DFS)을 참고하세요.\n",
        "\n",
        "- **순서가 정해져있는 작업**에 있어 순서를 결정해주는 알고리즘\n",
        "- Graph 개념을 도입, sorting될 값들이 graph의 node에 대응됨\n",
        "- DAG(Directed Acyclic Graph) 를 활용하여, 노드들 사이에 선후관계를 중심으로 정렬하는 알고리즘\n",
        "- DAG구조에 따라 여러 개의 답이 존재할 수 있음\n",
        "\n",
        "### Example\n",
        "in-degree가 언급된 아래 그래프와 정렬된 결과물을 넣을 빈 array를 떠올려 봅시다.\n",
        "![](https://images.velog.io/images/crosstar1228/post/c33f1767-2d79-4b1d-8b61-b53dc4de9b22/image.png)\n",
        "1. incoming edge 가 없는 node들을 골라 봅시다. -> **_A, F_**\n",
        "2. 그 중에서도 A를 source node로 선정합니다. node와 그로부터의 edge를 제거한 후 output array에 append합니다.\n",
        "![](https://images.velog.io/images/crosstar1228/post/74ac1545-34ec-468a-b839-e3eef73e7d54/image.png)\n",
        "3. in-degree를 update하고 in-degree 값이 0인 node를 제거 및 list에 append합니다.\n",
        "![](https://images.velog.io/images/crosstar1228/post/e0bd060a-0e94-46eb-962e-c1738a4b360d/image.png)\n",
        "4. 1~3 과정 반복합니다.\n",
        "![](https://images.velog.io/images/crosstar1228/post/3f7d9271-1ae5-476d-8a52-feb8c035d75f/image.png)\n",
        "### 아래와 같은 결과를 얻게 됩니다.\n",
        "![](https://images.velog.io/images/crosstar1228/post/56b388cd-b30d-4375-8a6b-df506d473fe8/image.png)\n",
        "- 만약 F를 source node로 택했다면 [F,A,B,C,D,E] 가 됩니다. 이처럼 여러 결과물을 얻을 수 있는 것이 위상정렬의 큰 특징입니다.\n",
        "\n",
        "\n",
        "> ### 🤩 topological sort 정리\n",
        "1. in-degree 값이 0인 node(incoming edge가 없는 node)를 source node로 선정합니다.\n",
        "2. source node 및 그 node의 outgoing edge를 모두 제거하고, output array에 node 값을 추가합니다. \n",
        "3. 각 node 의 in-degree 값들을 update합니다.\n",
        "4. 1~3 과정을 반복합니다.\n",
        "\n",
        "### Time Complexity\n",
        "$$\n",
        "O(m + n)\n",
        "$$\n",
        "- m : graph에서 edge 개수\n",
        "- n : graph에서 node 개수\n",
        "- n개의 node에 대하여 m개의 edge에 대해 loop를 돌리게 됨"
      ],
      "metadata": {
        "id": "n7DdbI10b1PM"
      }
    },
    {
      "cell_type": "markdown",
      "source": [
        "![](https://images.velog.io/images/crosstar1228/post/ad5fef32-1d4a-40ef-909a-c328e3a6c237/image.png)\n",
        "위 DAG에 대한 위상정렬의 예시"
      ],
      "metadata": {
        "id": "F852Bgg9k7wG"
      }
    },
    {
      "cell_type": "code",
      "source": [
        "from collections import defaultdict\n",
        "# graph class 정의\n",
        "\n",
        "class Graph:\n",
        "  def __init__(self,n):\n",
        "    self.graph = defaultdict(list)\n",
        "    self.N = n\n",
        "\n",
        "  def addEdge(self,m,n): # m 노드 -> n 노드 추가\n",
        "    self.graph[m].append(n)\n",
        "  def sortUtil(self,n,visited,stack): # DFS 구현\n",
        "    visited[n] = True\n",
        "    for elem in self.graph[n]: #n 노드로부터 outgoing edge\n",
        "      if not visited[elem]:\n",
        "        self.sortUtil(elem,visited,stack) # 재귀적 호출\n",
        "    stack.insert(0,n) #맨 앞 index에 n 노드를 추가\n",
        "\n",
        "  def topologicalSort(self): \n",
        "    visited = [False]*self.N\n",
        "    stack = []\n",
        "    for elem in range(self.N): # N개의 node를 통하여 looping. \n",
        "      if not visited[elem]: \n",
        "         self.sortUtil(elem,visited,stack)\n",
        "    print(stack) # 결과물 출력\n",
        "\n",
        "\n",
        "graph = Graph(5)\n",
        "graph.addEdge(0,1);\n",
        "graph.addEdge(0,3);\n",
        "graph.addEdge(1,2);\n",
        "graph.addEdge(2,3);\n",
        "graph.addEdge(2,4);\n",
        "graph.addEdge(3,4);\n",
        "\n",
        "print(\"The Topological Sort Of The Graph Is:  \")\n",
        "\n",
        "graph.topologicalSort()\n",
        "\n"
      ],
      "metadata": {
        "colab": {
          "base_uri": "https://localhost:8080/"
        },
        "id": "c9Pi6sfAuh7K",
        "outputId": "a0c4e474-ad63-4778-aa20-e55f55d2a671"
      },
      "execution_count": 19,
      "outputs": [
        {
          "output_type": "stream",
          "name": "stdout",
          "text": [
            "The Topological Sort Of The Graph Is:  \n",
            "[0, 1, 2, 3, 4]\n"
          ]
        }
      ]
    }
  ]
}