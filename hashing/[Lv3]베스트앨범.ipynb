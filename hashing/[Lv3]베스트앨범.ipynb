{
  "nbformat": 4,
  "nbformat_minor": 0,
  "metadata": {
    "colab": {
      "name": "[Lv3]베스트앨범.ipynb",
      "provenance": []
    },
    "kernelspec": {
      "name": "python3",
      "display_name": "Python 3"
    },
    "language_info": {
      "name": "python"
    }
  },
  "cells": [
    {
      "cell_type": "markdown",
      "source": [
        "[문제 풀기](https://programmers.co.kr/learn/courses/30/lessons/42579)\n",
        "- hasing & sorting 문제.\n",
        "\n",
        "## ideation 😁\n",
        "- 3원소 tuple로 재구성\n",
        "- 2순위,3순위 조건에 따라 정렬\n",
        "- 1순위 조건에 따른 for문을 통해 최종 순위 할당\n"
      ],
      "metadata": {
        "id": "Oz18pSKP9SDR"
      }
    },
    {
      "cell_type": "code",
      "execution_count": 1,
      "metadata": {
        "id": "QuTdOyDP9OmT"
      },
      "outputs": [],
      "source": [
        "from collections import defaultdict\n",
        "\n",
        "def solution(genres, plays):\n",
        "    lis = []\n",
        "    dic = defaultdict(int)\n",
        "    # make 3 element tuple list\n",
        "    for i,(gen, pl) in enumerate(zip(genres, plays)):\n",
        "        # print(i,tup)\n",
        "        lis.append((i,gen, pl))\n",
        "    \n",
        "        dic[gen]+=pl\n",
        "    # sort by plays and id in advance\n",
        "    # print(sorted(lis,key= lambda x : (x[2],x[0]), reverse = True))\n",
        "    lis = sorted(lis,key= lambda x : (x[2],-x[0]), reverse = True)\n",
        "    # sorted tuple total plays by genre\n",
        "    # print(sorted(dic.items(),key= lambda x : x[1],reverse=True))\n",
        "    order = sorted(dic.items(),key= lambda x : x[1],reverse=True)\n",
        "    ans = []\n",
        "    # return ans by for loop of order\n",
        "    for genre, _ in order:\n",
        "        cnt = 0\n",
        "        for x in lis:\n",
        "            if cnt==2:\n",
        "                    break\n",
        "            if x[1]==genre:\n",
        "                ans.append(x[0])\n",
        "                cnt+=1\n",
        "    return ans"
      ]
    },
    {
      "cell_type": "code",
      "source": [
        "genres = [\"classic\", \"pop\", \"classic\", \"classic\", \"pop\"]\n",
        "plays = [500, 600, 150, 800, 2500]\n",
        "\n",
        "solution(genres, plays)"
      ],
      "metadata": {
        "colab": {
          "base_uri": "https://localhost:8080/"
        },
        "id": "wVEHyNqf-DxB",
        "outputId": "fa2176c6-21de-4c72-ee7e-f4a3a920ec1f"
      },
      "execution_count": 2,
      "outputs": [
        {
          "output_type": "execute_result",
          "data": {
            "text/plain": [
              "[4, 1, 3, 0]"
            ]
          },
          "metadata": {},
          "execution_count": 2
        }
      ]
    },
    {
      "cell_type": "code",
      "source": [
        ""
      ],
      "metadata": {
        "id": "U2roTcAW-UEJ"
      },
      "execution_count": null,
      "outputs": []
    }
  ]
}