{
  "nbformat": 4,
  "nbformat_minor": 0,
  "metadata": {
    "colab": {
      "name": "[Lv2]위장",
      "provenance": []
    },
    "kernelspec": {
      "name": "python3",
      "display_name": "Python 3"
    },
    "language_info": {
      "name": "python"
    }
  },
  "cells": [
    {
      "cell_type": "markdown",
      "source": [
        "[문제 풀기](https://programmers.co.kr/learn/courses/30/lessons/42578)"
      ],
      "metadata": {
        "id": "vNc_-SGCAdJX"
      }
    },
    {
      "cell_type": "markdown",
      "source": [
        "> ## 회고\n",
        "- dictionary 만드는 대신 `defaultdict`를, `defaultdict` 대신 `Counter`를 쓰면 더 간단히 코딩할 수 있다. \n",
        "- `dic.values()`를 쓰면 value만 출력 가능하다.\n",
        "- iterable에서 `reduce`를 쓰면 for문을 쓰지 않아도 된다. \n",
        "\n",
        "\n"
      ],
      "metadata": {
        "id": "BmDVsLh5A3kG"
      }
    },
    {
      "cell_type": "code",
      "source": [
        "from collections import defaultdict\n",
        "def solution(clothes):\n",
        "    dic = defaultdict(int)\n",
        "    for _, key in clothes:\n",
        "        dic[key]+=1\n",
        "    answer=1\n",
        "    # print(dic.values())\n",
        "    for tup in dic.items():\n",
        "        answer=(tup[1]+1)*answer\n",
        "    return answer-1"
      ],
      "metadata": {
        "id": "OZLgZm8xAklt"
      },
      "execution_count": 1,
      "outputs": []
    },
    {
      "cell_type": "code",
      "source": [
        "clothes = [[\"yellowhat\", \"headgear\"], [\"bluesunglasses\", \"eyewear\"], [\"green_turban\", \"headgear\"]]\n",
        "solution(clothes)"
      ],
      "metadata": {
        "colab": {
          "base_uri": "https://localhost:8080/"
        },
        "id": "ae-ngUVGED0l",
        "outputId": "f6282226-e21c-4d8f-ce51-3b2c78e1e678"
      },
      "execution_count": 2,
      "outputs": [
        {
          "output_type": "stream",
          "name": "stdout",
          "text": [
            "dict_values([2, 1])\n"
          ]
        },
        {
          "output_type": "execute_result",
          "data": {
            "text/plain": [
              "5"
            ]
          },
          "metadata": {},
          "execution_count": 2
        }
      ]
    },
    {
      "cell_type": "markdown",
      "source": [
        "## Functools.reduce"
      ],
      "metadata": {
        "id": "supGsjdwDn6k"
      }
    },
    {
      "cell_type": "code",
      "source": [
        "from functools import reduce\n",
        "holist = [2, 3, 5, 3]\n",
        "reduce(lambda x,y: x*(y+1),holist,1)"
      ],
      "metadata": {
        "colab": {
          "base_uri": "https://localhost:8080/"
        },
        "id": "6DHcsG9tDqft",
        "outputId": "09a72e7d-27e6-447e-fef5-e4fa6c1f11cb"
      },
      "execution_count": 6,
      "outputs": [
        {
          "output_type": "execute_result",
          "data": {
            "text/plain": [
              "288"
            ]
          },
          "metadata": {},
          "execution_count": 6
        }
      ]
    }
  ]
}